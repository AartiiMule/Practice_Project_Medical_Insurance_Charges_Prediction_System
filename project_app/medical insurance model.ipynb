{
 "cells": [
  {
   "cell_type": "code",
   "execution_count": 1,
   "id": "5b241d1d",
   "metadata": {},
   "outputs": [],
   "source": [
    "import numpy as np\n",
    "import pandas as pd\n",
    "\n",
    "import seaborn as sns\n",
    "import matplotlib.pyplot as plt\n",
    "\n",
    "import warnings\n",
    "\n",
    "from sklearn.linear_model import LinearRegression\n",
    "from sklearn.model_selection import train_test_split\n",
    "\n",
    "\n",
    "from statsmodels.stats.outliers_influence import variance_inflation_factor\n",
    "from sklearn.linear_model import LinearRegression\n",
    "\n",
    "from sklearn.metrics import r2_score, mean_absolute_error, mean_squared_error\n",
    "\n",
    "from sklearn.linear_model import LinearRegression, Ridge, Lasso\n",
    "from sklearn.model_selection import train_test_split, GridSearchCV, RandomizedSearchCV\n",
    "\n",
    "from sklearn.neighbors import KNeighborsRegressor\n",
    "from sklearn.tree import DecisionTreeRegressor\n",
    "from sklearn.ensemble import RandomForestRegressor,AdaBoostRegressor\n",
    "from sklearn.svm import SVC\n",
    "\n",
    "\n",
    "from sklearn.preprocessing import StandardScaler,MinMaxScaler\n"
   ]
  },
  {
   "cell_type": "markdown",
   "id": "f986b060",
   "metadata": {},
   "source": [
    "### PROBLEM STATEMENT"
   ]
  },
  {
   "cell_type": "markdown",
   "id": "45b132d9",
   "metadata": {},
   "source": [
    "To predict the charges for medical insurance using supervised machine learning\n",
    "algorithm"
   ]
  },
  {
   "cell_type": "markdown",
   "id": "fa846a38",
   "metadata": {},
   "source": [
    "### DATA GATHERING "
   ]
  },
  {
   "cell_type": "code",
   "execution_count": 2,
   "id": "0ac49830",
   "metadata": {},
   "outputs": [
    {
     "data": {
      "text/html": [
       "<div>\n",
       "<style scoped>\n",
       "    .dataframe tbody tr th:only-of-type {\n",
       "        vertical-align: middle;\n",
       "    }\n",
       "\n",
       "    .dataframe tbody tr th {\n",
       "        vertical-align: top;\n",
       "    }\n",
       "\n",
       "    .dataframe thead th {\n",
       "        text-align: right;\n",
       "    }\n",
       "</style>\n",
       "<table border=\"1\" class=\"dataframe\">\n",
       "  <thead>\n",
       "    <tr style=\"text-align: right;\">\n",
       "      <th></th>\n",
       "      <th>age</th>\n",
       "      <th>sex</th>\n",
       "      <th>bmi</th>\n",
       "      <th>children</th>\n",
       "      <th>smoker</th>\n",
       "      <th>region</th>\n",
       "      <th>charges</th>\n",
       "    </tr>\n",
       "  </thead>\n",
       "  <tbody>\n",
       "    <tr>\n",
       "      <th>0</th>\n",
       "      <td>19</td>\n",
       "      <td>female</td>\n",
       "      <td>27.900</td>\n",
       "      <td>0</td>\n",
       "      <td>yes</td>\n",
       "      <td>southwest</td>\n",
       "      <td>16884.92400</td>\n",
       "    </tr>\n",
       "    <tr>\n",
       "      <th>1</th>\n",
       "      <td>18</td>\n",
       "      <td>male</td>\n",
       "      <td>33.770</td>\n",
       "      <td>1</td>\n",
       "      <td>no</td>\n",
       "      <td>southeast</td>\n",
       "      <td>1725.55230</td>\n",
       "    </tr>\n",
       "    <tr>\n",
       "      <th>2</th>\n",
       "      <td>28</td>\n",
       "      <td>male</td>\n",
       "      <td>33.000</td>\n",
       "      <td>3</td>\n",
       "      <td>no</td>\n",
       "      <td>southeast</td>\n",
       "      <td>4449.46200</td>\n",
       "    </tr>\n",
       "    <tr>\n",
       "      <th>3</th>\n",
       "      <td>33</td>\n",
       "      <td>male</td>\n",
       "      <td>22.705</td>\n",
       "      <td>0</td>\n",
       "      <td>no</td>\n",
       "      <td>northwest</td>\n",
       "      <td>21984.47061</td>\n",
       "    </tr>\n",
       "    <tr>\n",
       "      <th>4</th>\n",
       "      <td>32</td>\n",
       "      <td>male</td>\n",
       "      <td>28.880</td>\n",
       "      <td>0</td>\n",
       "      <td>no</td>\n",
       "      <td>northwest</td>\n",
       "      <td>3866.85520</td>\n",
       "    </tr>\n",
       "    <tr>\n",
       "      <th>...</th>\n",
       "      <td>...</td>\n",
       "      <td>...</td>\n",
       "      <td>...</td>\n",
       "      <td>...</td>\n",
       "      <td>...</td>\n",
       "      <td>...</td>\n",
       "      <td>...</td>\n",
       "    </tr>\n",
       "    <tr>\n",
       "      <th>1333</th>\n",
       "      <td>50</td>\n",
       "      <td>male</td>\n",
       "      <td>30.970</td>\n",
       "      <td>3</td>\n",
       "      <td>no</td>\n",
       "      <td>northwest</td>\n",
       "      <td>10600.54830</td>\n",
       "    </tr>\n",
       "    <tr>\n",
       "      <th>1334</th>\n",
       "      <td>18</td>\n",
       "      <td>female</td>\n",
       "      <td>31.920</td>\n",
       "      <td>0</td>\n",
       "      <td>no</td>\n",
       "      <td>northeast</td>\n",
       "      <td>2205.98080</td>\n",
       "    </tr>\n",
       "    <tr>\n",
       "      <th>1335</th>\n",
       "      <td>18</td>\n",
       "      <td>female</td>\n",
       "      <td>36.850</td>\n",
       "      <td>0</td>\n",
       "      <td>no</td>\n",
       "      <td>southeast</td>\n",
       "      <td>1629.83350</td>\n",
       "    </tr>\n",
       "    <tr>\n",
       "      <th>1336</th>\n",
       "      <td>21</td>\n",
       "      <td>female</td>\n",
       "      <td>25.800</td>\n",
       "      <td>0</td>\n",
       "      <td>no</td>\n",
       "      <td>southwest</td>\n",
       "      <td>2007.94500</td>\n",
       "    </tr>\n",
       "    <tr>\n",
       "      <th>1337</th>\n",
       "      <td>61</td>\n",
       "      <td>female</td>\n",
       "      <td>29.070</td>\n",
       "      <td>0</td>\n",
       "      <td>yes</td>\n",
       "      <td>northwest</td>\n",
       "      <td>29141.36030</td>\n",
       "    </tr>\n",
       "  </tbody>\n",
       "</table>\n",
       "<p>1338 rows × 7 columns</p>\n",
       "</div>"
      ],
      "text/plain": [
       "      age     sex     bmi  children smoker     region      charges\n",
       "0      19  female  27.900         0    yes  southwest  16884.92400\n",
       "1      18    male  33.770         1     no  southeast   1725.55230\n",
       "2      28    male  33.000         3     no  southeast   4449.46200\n",
       "3      33    male  22.705         0     no  northwest  21984.47061\n",
       "4      32    male  28.880         0     no  northwest   3866.85520\n",
       "...   ...     ...     ...       ...    ...        ...          ...\n",
       "1333   50    male  30.970         3     no  northwest  10600.54830\n",
       "1334   18  female  31.920         0     no  northeast   2205.98080\n",
       "1335   18  female  36.850         0     no  southeast   1629.83350\n",
       "1336   21  female  25.800         0     no  southwest   2007.94500\n",
       "1337   61  female  29.070         0    yes  northwest  29141.36030\n",
       "\n",
       "[1338 rows x 7 columns]"
      ]
     },
     "execution_count": 2,
     "metadata": {},
     "output_type": "execute_result"
    }
   ],
   "source": [
    "df = pd.read_csv(\"medical_insurance.csv\")\n",
    "df"
   ]
  },
  {
   "cell_type": "code",
   "execution_count": null,
   "id": "fbf25169",
   "metadata": {},
   "outputs": [],
   "source": []
  },
  {
   "cell_type": "markdown",
   "id": "597bf9a0",
   "metadata": {},
   "source": [
    "### EXPLORATORY DATA ANALYSIS"
   ]
  },
  {
   "cell_type": "code",
   "execution_count": 3,
   "id": "2f5ef9f7",
   "metadata": {},
   "outputs": [
    {
     "name": "stdout",
     "output_type": "stream",
     "text": [
      "<class 'pandas.core.frame.DataFrame'>\n",
      "RangeIndex: 1338 entries, 0 to 1337\n",
      "Data columns (total 7 columns):\n",
      " #   Column    Non-Null Count  Dtype  \n",
      "---  ------    --------------  -----  \n",
      " 0   age       1338 non-null   int64  \n",
      " 1   sex       1338 non-null   object \n",
      " 2   bmi       1338 non-null   float64\n",
      " 3   children  1338 non-null   int64  \n",
      " 4   smoker    1338 non-null   object \n",
      " 5   region    1338 non-null   object \n",
      " 6   charges   1338 non-null   float64\n",
      "dtypes: float64(2), int64(2), object(3)\n",
      "memory usage: 73.3+ KB\n"
     ]
    }
   ],
   "source": [
    "df.info()              #   there are three columns are object datatype"
   ]
  },
  {
   "cell_type": "code",
   "execution_count": 4,
   "id": "6e523743",
   "metadata": {},
   "outputs": [
    {
     "data": {
      "text/plain": [
       "1338"
      ]
     },
     "execution_count": 4,
     "metadata": {},
     "output_type": "execute_result"
    }
   ],
   "source": [
    "row_count = df.shape[0]\n",
    "row_count"
   ]
  },
  {
   "cell_type": "code",
   "execution_count": 5,
   "id": "72ca9836",
   "metadata": {},
   "outputs": [
    {
     "data": {
      "text/plain": [
       "7"
      ]
     },
     "execution_count": 5,
     "metadata": {},
     "output_type": "execute_result"
    }
   ],
   "source": [
    "columns_count = df.shape[1]\n",
    "columns_count"
   ]
  },
  {
   "cell_type": "code",
   "execution_count": 6,
   "id": "7af1de0d",
   "metadata": {},
   "outputs": [
    {
     "data": {
      "text/html": [
       "<div>\n",
       "<style scoped>\n",
       "    .dataframe tbody tr th:only-of-type {\n",
       "        vertical-align: middle;\n",
       "    }\n",
       "\n",
       "    .dataframe tbody tr th {\n",
       "        vertical-align: top;\n",
       "    }\n",
       "\n",
       "    .dataframe thead th {\n",
       "        text-align: right;\n",
       "    }\n",
       "</style>\n",
       "<table border=\"1\" class=\"dataframe\">\n",
       "  <thead>\n",
       "    <tr style=\"text-align: right;\">\n",
       "      <th></th>\n",
       "      <th>age</th>\n",
       "      <th>bmi</th>\n",
       "      <th>children</th>\n",
       "      <th>charges</th>\n",
       "    </tr>\n",
       "  </thead>\n",
       "  <tbody>\n",
       "    <tr>\n",
       "      <th>count</th>\n",
       "      <td>1338.000000</td>\n",
       "      <td>1338.000000</td>\n",
       "      <td>1338.000000</td>\n",
       "      <td>1338.000000</td>\n",
       "    </tr>\n",
       "    <tr>\n",
       "      <th>mean</th>\n",
       "      <td>39.207025</td>\n",
       "      <td>30.663397</td>\n",
       "      <td>1.094918</td>\n",
       "      <td>13270.422265</td>\n",
       "    </tr>\n",
       "    <tr>\n",
       "      <th>std</th>\n",
       "      <td>14.049960</td>\n",
       "      <td>6.098187</td>\n",
       "      <td>1.205493</td>\n",
       "      <td>12110.011237</td>\n",
       "    </tr>\n",
       "    <tr>\n",
       "      <th>min</th>\n",
       "      <td>18.000000</td>\n",
       "      <td>15.960000</td>\n",
       "      <td>0.000000</td>\n",
       "      <td>1121.873900</td>\n",
       "    </tr>\n",
       "    <tr>\n",
       "      <th>25%</th>\n",
       "      <td>27.000000</td>\n",
       "      <td>26.296250</td>\n",
       "      <td>0.000000</td>\n",
       "      <td>4740.287150</td>\n",
       "    </tr>\n",
       "    <tr>\n",
       "      <th>50%</th>\n",
       "      <td>39.000000</td>\n",
       "      <td>30.400000</td>\n",
       "      <td>1.000000</td>\n",
       "      <td>9382.033000</td>\n",
       "    </tr>\n",
       "    <tr>\n",
       "      <th>75%</th>\n",
       "      <td>51.000000</td>\n",
       "      <td>34.693750</td>\n",
       "      <td>2.000000</td>\n",
       "      <td>16639.912515</td>\n",
       "    </tr>\n",
       "    <tr>\n",
       "      <th>max</th>\n",
       "      <td>64.000000</td>\n",
       "      <td>53.130000</td>\n",
       "      <td>5.000000</td>\n",
       "      <td>63770.428010</td>\n",
       "    </tr>\n",
       "  </tbody>\n",
       "</table>\n",
       "</div>"
      ],
      "text/plain": [
       "               age          bmi     children       charges\n",
       "count  1338.000000  1338.000000  1338.000000   1338.000000\n",
       "mean     39.207025    30.663397     1.094918  13270.422265\n",
       "std      14.049960     6.098187     1.205493  12110.011237\n",
       "min      18.000000    15.960000     0.000000   1121.873900\n",
       "25%      27.000000    26.296250     0.000000   4740.287150\n",
       "50%      39.000000    30.400000     1.000000   9382.033000\n",
       "75%      51.000000    34.693750     2.000000  16639.912515\n",
       "max      64.000000    53.130000     5.000000  63770.428010"
      ]
     },
     "execution_count": 6,
     "metadata": {},
     "output_type": "execute_result"
    }
   ],
   "source": [
    "df.describe()        # statistical analysis"
   ]
  },
  {
   "cell_type": "code",
   "execution_count": 7,
   "id": "4f607187",
   "metadata": {},
   "outputs": [
    {
     "data": {
      "text/plain": [
       "array([19, 18, 28, 33, 32, 31, 46, 37, 60, 25, 62, 23, 56, 27, 52, 30, 34,\n",
       "       59, 63, 55, 22, 26, 35, 24, 41, 38, 36, 21, 48, 40, 58, 53, 43, 64,\n",
       "       20, 61, 44, 57, 29, 45, 54, 49, 47, 51, 42, 50, 39], dtype=int64)"
      ]
     },
     "execution_count": 7,
     "metadata": {},
     "output_type": "execute_result"
    }
   ],
   "source": [
    "df[\"age\"].unique()"
   ]
  },
  {
   "cell_type": "code",
   "execution_count": 8,
   "id": "6c44ecf7",
   "metadata": {},
   "outputs": [
    {
     "data": {
      "text/plain": [
       "18    69\n",
       "19    68\n",
       "50    29\n",
       "51    29\n",
       "47    29\n",
       "46    29\n",
       "45    29\n",
       "20    29\n",
       "48    29\n",
       "52    29\n",
       "22    28\n",
       "49    28\n",
       "54    28\n",
       "53    28\n",
       "21    28\n",
       "26    28\n",
       "24    28\n",
       "25    28\n",
       "28    28\n",
       "27    28\n",
       "23    28\n",
       "43    27\n",
       "29    27\n",
       "30    27\n",
       "41    27\n",
       "42    27\n",
       "44    27\n",
       "31    27\n",
       "40    27\n",
       "32    26\n",
       "33    26\n",
       "56    26\n",
       "34    26\n",
       "55    26\n",
       "57    26\n",
       "37    25\n",
       "59    25\n",
       "58    25\n",
       "36    25\n",
       "38    25\n",
       "35    25\n",
       "39    25\n",
       "61    23\n",
       "60    23\n",
       "63    23\n",
       "62    23\n",
       "64    22\n",
       "Name: age, dtype: int64"
      ]
     },
     "execution_count": 8,
     "metadata": {},
     "output_type": "execute_result"
    }
   ],
   "source": [
    "df[\"age\"].value_counts()"
   ]
  },
  {
   "cell_type": "code",
   "execution_count": 9,
   "id": "7992c245",
   "metadata": {},
   "outputs": [
    {
     "data": {
      "text/plain": [
       "array([27.9  , 33.77 , 33.   , 22.705, 28.88 , 25.74 , 33.44 , 27.74 ,\n",
       "       29.83 , 25.84 , 26.22 , 26.29 , 34.4  , 39.82 , 42.13 , 24.6  ,\n",
       "       30.78 , 23.845, 40.3  , 35.3  , 36.005, 32.4  , 34.1  , 31.92 ,\n",
       "       28.025, 27.72 , 23.085, 32.775, 17.385, 36.3  , 35.6  , 26.315,\n",
       "       28.6  , 28.31 , 36.4  , 20.425, 32.965, 20.8  , 36.67 , 39.9  ,\n",
       "       26.6  , 36.63 , 21.78 , 30.8  , 37.05 , 37.3  , 38.665, 34.77 ,\n",
       "       24.53 , 35.2  , 35.625, 33.63 , 28.   , 34.43 , 28.69 , 36.955,\n",
       "       31.825, 31.68 , 22.88 , 37.335, 27.36 , 33.66 , 24.7  , 25.935,\n",
       "       22.42 , 28.9  , 39.1  , 36.19 , 23.98 , 24.75 , 28.5  , 28.1  ,\n",
       "       32.01 , 27.4  , 34.01 , 29.59 , 35.53 , 39.805, 26.885, 38.285,\n",
       "       37.62 , 41.23 , 34.8  , 22.895, 31.16 , 27.2  , 26.98 , 39.49 ,\n",
       "       24.795, 31.3  , 38.28 , 19.95 , 19.3  , 31.6  , 25.46 , 30.115,\n",
       "       29.92 , 27.5  , 28.4  , 30.875, 27.94 , 35.09 , 29.7  , 35.72 ,\n",
       "       32.205, 28.595, 49.06 , 27.17 , 23.37 , 37.1  , 23.75 , 28.975,\n",
       "       31.35 , 33.915, 28.785, 28.3  , 37.4  , 17.765, 34.7  , 26.505,\n",
       "       22.04 , 35.9  , 25.555, 28.05 , 25.175, 31.9  , 36.   , 32.49 ,\n",
       "       25.3  , 29.735, 38.83 , 30.495, 37.73 , 37.43 , 24.13 , 37.145,\n",
       "       39.52 , 24.42 , 27.83 , 36.85 , 39.6  , 29.8  , 29.64 , 28.215,\n",
       "       37.   , 33.155, 18.905, 41.47 , 30.3  , 15.96 , 33.345, 37.7  ,\n",
       "       27.835, 29.2  , 26.41 , 30.69 , 41.895, 30.9  , 32.2  , 32.11 ,\n",
       "       31.57 , 26.2  , 30.59 , 32.8  , 18.05 , 39.33 , 32.23 , 24.035,\n",
       "       36.08 , 22.3  , 26.4  , 31.8  , 26.73 , 23.1  , 23.21 , 33.7  ,\n",
       "       33.25 , 24.64 , 33.88 , 38.06 , 41.91 , 31.635, 36.195, 17.8  ,\n",
       "       24.51 , 22.22 , 38.39 , 29.07 , 22.135, 26.8  , 30.02 , 35.86 ,\n",
       "       20.9  , 17.29 , 34.21 , 25.365, 40.15 , 24.415, 25.2  , 26.84 ,\n",
       "       24.32 , 42.35 , 19.8  , 32.395, 30.2  , 29.37 , 34.2  , 27.455,\n",
       "       27.55 , 20.615, 24.3  , 31.79 , 21.56 , 28.12 , 40.565, 27.645,\n",
       "       31.2  , 26.62 , 48.07 , 36.765, 33.4  , 45.54 , 28.82 , 22.99 ,\n",
       "       27.7  , 25.41 , 34.39 , 22.61 , 37.51 , 38.   , 33.33 , 34.865,\n",
       "       33.06 , 35.97 , 31.4  , 25.27 , 40.945, 34.105, 36.48 , 33.8  ,\n",
       "       36.7  , 36.385, 34.5  , 32.3  , 27.6  , 29.26 , 35.75 , 23.18 ,\n",
       "       25.6  , 35.245, 43.89 , 20.79 , 30.5  , 21.7  , 21.89 , 24.985,\n",
       "       32.015, 30.4  , 21.09 , 22.23 , 32.9  , 24.89 , 31.46 , 17.955,\n",
       "       30.685, 43.34 , 39.05 , 30.21 , 31.445, 19.855, 31.02 , 38.17 ,\n",
       "       20.6  , 47.52 , 20.4  , 38.38 , 24.31 , 23.6  , 21.12 , 30.03 ,\n",
       "       17.48 , 20.235, 17.195, 23.9  , 35.15 , 35.64 , 22.6  , 39.16 ,\n",
       "       27.265, 29.165, 16.815, 33.1  , 26.9  , 33.11 , 31.73 , 46.75 ,\n",
       "       29.45 , 32.68 , 33.5  , 43.01 , 36.52 , 26.695, 25.65 , 29.6  ,\n",
       "       38.6  , 23.4  , 46.53 , 30.14 , 30.   , 38.095, 28.38 , 28.7  ,\n",
       "       33.82 , 24.09 , 32.67 , 25.1  , 32.56 , 41.325, 39.5  , 34.3  ,\n",
       "       31.065, 21.47 , 25.08 , 43.4  , 25.7  , 27.93 , 39.2  , 26.03 ,\n",
       "       30.25 , 28.93 , 35.7  , 35.31 , 31.   , 44.22 , 26.07 , 25.8  ,\n",
       "       39.425, 40.48 , 38.9  , 47.41 , 35.435, 46.7  , 46.2  , 21.4  ,\n",
       "       23.8  , 44.77 , 32.12 , 29.1  , 37.29 , 43.12 , 36.86 , 34.295,\n",
       "       23.465, 45.43 , 23.65 , 20.7  , 28.27 , 35.91 , 29.   , 19.57 ,\n",
       "       31.13 , 21.85 , 40.26 , 33.725, 29.48 , 32.6  , 37.525, 23.655,\n",
       "       37.8  , 19.   , 21.3  , 33.535, 42.46 , 38.95 , 36.1  , 29.3  ,\n",
       "       39.7  , 38.19 , 42.4  , 34.96 , 42.68 , 31.54 , 29.81 , 21.375,\n",
       "       40.81 , 17.4  , 20.3  , 18.5  , 26.125, 41.69 , 24.1  , 36.2  ,\n",
       "       40.185, 39.27 , 34.87 , 44.745, 29.545, 23.54 , 40.47 , 40.66 ,\n",
       "       36.6  , 35.4  , 27.075, 28.405, 21.755, 40.28 , 30.1  , 32.1  ,\n",
       "       23.7  , 35.5  , 29.15 , 27.   , 37.905, 22.77 , 22.8  , 34.58 ,\n",
       "       27.1  , 19.475, 26.7  , 34.32 , 24.4  , 41.14 , 22.515, 41.8  ,\n",
       "       26.18 , 42.24 , 26.51 , 35.815, 41.42 , 36.575, 42.94 , 21.01 ,\n",
       "       24.225, 17.67 , 31.5  , 31.1  , 32.78 , 32.45 , 50.38 , 47.6  ,\n",
       "       25.4  , 29.9  , 43.7  , 24.86 , 28.8  , 29.5  , 29.04 , 38.94 ,\n",
       "       44.   , 20.045, 40.92 , 35.1  , 29.355, 32.585, 32.34 , 39.8  ,\n",
       "       24.605, 33.99 , 28.2  , 25.   , 33.2  , 23.2  , 20.1  , 32.5  ,\n",
       "       37.18 , 46.09 , 39.93 , 35.8  , 31.255, 18.335, 42.9  , 26.79 ,\n",
       "       39.615, 25.9  , 25.745, 28.16 , 23.56 , 40.5  , 35.42 , 39.995,\n",
       "       34.675, 20.52 , 23.275, 36.29 , 32.7  , 19.19 , 20.13 , 23.32 ,\n",
       "       45.32 , 34.6  , 18.715, 21.565, 23.   , 37.07 , 52.58 , 42.655,\n",
       "       21.66 , 32.   , 18.3  , 47.74 , 22.1  , 19.095, 31.24 , 29.925,\n",
       "       20.35 , 25.85 , 42.75 , 18.6  , 23.87 , 45.9  , 21.5  , 30.305,\n",
       "       44.88 , 41.1  , 40.37 , 28.49 , 33.55 , 40.375, 27.28 , 17.86 ,\n",
       "       33.3  , 39.14 , 21.945, 24.97 , 23.94 , 34.485, 21.8  , 23.3  ,\n",
       "       36.96 , 21.28 , 29.4  , 27.3  , 37.9  , 37.715, 23.76 , 25.52 ,\n",
       "       27.61 , 27.06 , 39.4  , 34.9  , 22.   , 30.36 , 27.8  , 53.13 ,\n",
       "       39.71 , 32.87 , 44.7  , 30.97 ])"
      ]
     },
     "execution_count": 9,
     "metadata": {},
     "output_type": "execute_result"
    }
   ],
   "source": [
    "df[\"bmi\"].unique()"
   ]
  },
  {
   "cell_type": "code",
   "execution_count": 10,
   "id": "e74af54c",
   "metadata": {},
   "outputs": [
    {
     "data": {
      "text/plain": [
       "32.300    13\n",
       "28.310     9\n",
       "30.495     8\n",
       "30.875     8\n",
       "31.350     8\n",
       "          ..\n",
       "46.200     1\n",
       "23.800     1\n",
       "44.770     1\n",
       "32.120     1\n",
       "30.970     1\n",
       "Name: bmi, Length: 548, dtype: int64"
      ]
     },
     "execution_count": 10,
     "metadata": {},
     "output_type": "execute_result"
    }
   ],
   "source": [
    "df[\"bmi\"].value_counts()"
   ]
  },
  {
   "cell_type": "code",
   "execution_count": 11,
   "id": "7811be62",
   "metadata": {},
   "outputs": [
    {
     "data": {
      "text/plain": [
       "array([0, 1, 3, 2, 5, 4], dtype=int64)"
      ]
     },
     "execution_count": 11,
     "metadata": {},
     "output_type": "execute_result"
    }
   ],
   "source": [
    "df[\"children\"].unique()"
   ]
  },
  {
   "cell_type": "code",
   "execution_count": 12,
   "id": "0dc009b8",
   "metadata": {},
   "outputs": [
    {
     "data": {
      "text/plain": [
       "0    574\n",
       "1    324\n",
       "2    240\n",
       "3    157\n",
       "4     25\n",
       "5     18\n",
       "Name: children, dtype: int64"
      ]
     },
     "execution_count": 12,
     "metadata": {},
     "output_type": "execute_result"
    }
   ],
   "source": [
    "df[\"children\"].value_counts()"
   ]
  },
  {
   "cell_type": "code",
   "execution_count": 13,
   "id": "a090ea38",
   "metadata": {},
   "outputs": [
    {
     "data": {
      "text/plain": [
       "array(['yes', 'no'], dtype=object)"
      ]
     },
     "execution_count": 13,
     "metadata": {},
     "output_type": "execute_result"
    }
   ],
   "source": [
    "df[\"smoker\"].unique()"
   ]
  },
  {
   "cell_type": "code",
   "execution_count": 14,
   "id": "93006981",
   "metadata": {},
   "outputs": [
    {
     "data": {
      "text/plain": [
       "no     1064\n",
       "yes     274\n",
       "Name: smoker, dtype: int64"
      ]
     },
     "execution_count": 14,
     "metadata": {},
     "output_type": "execute_result"
    }
   ],
   "source": [
    "df[\"smoker\"].value_counts()"
   ]
  },
  {
   "cell_type": "code",
   "execution_count": 15,
   "id": "07d36686",
   "metadata": {},
   "outputs": [
    {
     "data": {
      "text/plain": [
       "array(['southwest', 'southeast', 'northwest', 'northeast'], dtype=object)"
      ]
     },
     "execution_count": 15,
     "metadata": {},
     "output_type": "execute_result"
    }
   ],
   "source": [
    "df[\"region\"].unique()"
   ]
  },
  {
   "cell_type": "code",
   "execution_count": 16,
   "id": "8ad07194",
   "metadata": {},
   "outputs": [
    {
     "data": {
      "text/plain": [
       "southeast    364\n",
       "southwest    325\n",
       "northwest    325\n",
       "northeast    324\n",
       "Name: region, dtype: int64"
      ]
     },
     "execution_count": 16,
     "metadata": {},
     "output_type": "execute_result"
    }
   ],
   "source": [
    "df[\"region\"].value_counts()"
   ]
  },
  {
   "cell_type": "code",
   "execution_count": 17,
   "id": "ae8fe4db",
   "metadata": {},
   "outputs": [
    {
     "data": {
      "text/plain": [
       "array([16884.924 ,  1725.5523,  4449.462 , ...,  1629.8335,  2007.945 ,\n",
       "       29141.3603])"
      ]
     },
     "execution_count": 17,
     "metadata": {},
     "output_type": "execute_result"
    }
   ],
   "source": [
    "df[\"charges\"].unique()"
   ]
  },
  {
   "cell_type": "code",
   "execution_count": 18,
   "id": "5edd5ffc",
   "metadata": {},
   "outputs": [
    {
     "data": {
      "text/plain": [
       "1639.56310     2\n",
       "16884.92400    1\n",
       "29330.98315    1\n",
       "2221.56445     1\n",
       "19798.05455    1\n",
       "              ..\n",
       "7345.08400     1\n",
       "26109.32905    1\n",
       "28287.89766    1\n",
       "1149.39590     1\n",
       "29141.36030    1\n",
       "Name: charges, Length: 1337, dtype: int64"
      ]
     },
     "execution_count": 18,
     "metadata": {},
     "output_type": "execute_result"
    }
   ],
   "source": [
    "df[\"charges\"].value_counts()"
   ]
  },
  {
   "cell_type": "markdown",
   "id": "02a7c27a",
   "metadata": {},
   "source": [
    "#### Converting catogorical data into numerical format by using label encoding and one hot encoding"
   ]
  },
  {
   "cell_type": "code",
   "execution_count": 19,
   "id": "f66be9ea",
   "metadata": {},
   "outputs": [],
   "source": [
    "df[\"sex\"].replace({\"male\":0,\"female\":1},inplace = True)"
   ]
  },
  {
   "cell_type": "code",
   "execution_count": 20,
   "id": "1889a626",
   "metadata": {},
   "outputs": [
    {
     "data": {
      "text/plain": [
       "{'male': 0, 'female': 1}"
      ]
     },
     "execution_count": 20,
     "metadata": {},
     "output_type": "execute_result"
    }
   ],
   "source": [
    "sex_values = {\"male\":0,\"female\":1}\n",
    "sex_values"
   ]
  },
  {
   "cell_type": "code",
   "execution_count": 21,
   "id": "16e0fa17",
   "metadata": {},
   "outputs": [],
   "source": [
    "df[\"smoker\"].replace({\"no\":0,\"yes\":1},inplace = True)"
   ]
  },
  {
   "cell_type": "code",
   "execution_count": 22,
   "id": "7cf25d0d",
   "metadata": {},
   "outputs": [
    {
     "data": {
      "text/plain": [
       "{'no': 0, 'yes': 1}"
      ]
     },
     "execution_count": 22,
     "metadata": {},
     "output_type": "execute_result"
    }
   ],
   "source": [
    "smoker_values = {\"no\":0,\"yes\":1}\n",
    "smoker_values "
   ]
  },
  {
   "cell_type": "code",
   "execution_count": 23,
   "id": "3db8dcc3",
   "metadata": {},
   "outputs": [],
   "source": [
    "df = pd.get_dummies(df,columns = [\"region\"])"
   ]
  },
  {
   "cell_type": "code",
   "execution_count": 24,
   "id": "45934440",
   "metadata": {},
   "outputs": [
    {
     "data": {
      "text/html": [
       "<div>\n",
       "<style scoped>\n",
       "    .dataframe tbody tr th:only-of-type {\n",
       "        vertical-align: middle;\n",
       "    }\n",
       "\n",
       "    .dataframe tbody tr th {\n",
       "        vertical-align: top;\n",
       "    }\n",
       "\n",
       "    .dataframe thead th {\n",
       "        text-align: right;\n",
       "    }\n",
       "</style>\n",
       "<table border=\"1\" class=\"dataframe\">\n",
       "  <thead>\n",
       "    <tr style=\"text-align: right;\">\n",
       "      <th></th>\n",
       "      <th>age</th>\n",
       "      <th>sex</th>\n",
       "      <th>bmi</th>\n",
       "      <th>children</th>\n",
       "      <th>smoker</th>\n",
       "      <th>charges</th>\n",
       "      <th>region_northeast</th>\n",
       "      <th>region_northwest</th>\n",
       "      <th>region_southeast</th>\n",
       "      <th>region_southwest</th>\n",
       "    </tr>\n",
       "  </thead>\n",
       "  <tbody>\n",
       "    <tr>\n",
       "      <th>0</th>\n",
       "      <td>19</td>\n",
       "      <td>1</td>\n",
       "      <td>27.900</td>\n",
       "      <td>0</td>\n",
       "      <td>1</td>\n",
       "      <td>16884.92400</td>\n",
       "      <td>0</td>\n",
       "      <td>0</td>\n",
       "      <td>0</td>\n",
       "      <td>1</td>\n",
       "    </tr>\n",
       "    <tr>\n",
       "      <th>1</th>\n",
       "      <td>18</td>\n",
       "      <td>0</td>\n",
       "      <td>33.770</td>\n",
       "      <td>1</td>\n",
       "      <td>0</td>\n",
       "      <td>1725.55230</td>\n",
       "      <td>0</td>\n",
       "      <td>0</td>\n",
       "      <td>1</td>\n",
       "      <td>0</td>\n",
       "    </tr>\n",
       "    <tr>\n",
       "      <th>2</th>\n",
       "      <td>28</td>\n",
       "      <td>0</td>\n",
       "      <td>33.000</td>\n",
       "      <td>3</td>\n",
       "      <td>0</td>\n",
       "      <td>4449.46200</td>\n",
       "      <td>0</td>\n",
       "      <td>0</td>\n",
       "      <td>1</td>\n",
       "      <td>0</td>\n",
       "    </tr>\n",
       "    <tr>\n",
       "      <th>3</th>\n",
       "      <td>33</td>\n",
       "      <td>0</td>\n",
       "      <td>22.705</td>\n",
       "      <td>0</td>\n",
       "      <td>0</td>\n",
       "      <td>21984.47061</td>\n",
       "      <td>0</td>\n",
       "      <td>1</td>\n",
       "      <td>0</td>\n",
       "      <td>0</td>\n",
       "    </tr>\n",
       "    <tr>\n",
       "      <th>4</th>\n",
       "      <td>32</td>\n",
       "      <td>0</td>\n",
       "      <td>28.880</td>\n",
       "      <td>0</td>\n",
       "      <td>0</td>\n",
       "      <td>3866.85520</td>\n",
       "      <td>0</td>\n",
       "      <td>1</td>\n",
       "      <td>0</td>\n",
       "      <td>0</td>\n",
       "    </tr>\n",
       "    <tr>\n",
       "      <th>...</th>\n",
       "      <td>...</td>\n",
       "      <td>...</td>\n",
       "      <td>...</td>\n",
       "      <td>...</td>\n",
       "      <td>...</td>\n",
       "      <td>...</td>\n",
       "      <td>...</td>\n",
       "      <td>...</td>\n",
       "      <td>...</td>\n",
       "      <td>...</td>\n",
       "    </tr>\n",
       "    <tr>\n",
       "      <th>1333</th>\n",
       "      <td>50</td>\n",
       "      <td>0</td>\n",
       "      <td>30.970</td>\n",
       "      <td>3</td>\n",
       "      <td>0</td>\n",
       "      <td>10600.54830</td>\n",
       "      <td>0</td>\n",
       "      <td>1</td>\n",
       "      <td>0</td>\n",
       "      <td>0</td>\n",
       "    </tr>\n",
       "    <tr>\n",
       "      <th>1334</th>\n",
       "      <td>18</td>\n",
       "      <td>1</td>\n",
       "      <td>31.920</td>\n",
       "      <td>0</td>\n",
       "      <td>0</td>\n",
       "      <td>2205.98080</td>\n",
       "      <td>1</td>\n",
       "      <td>0</td>\n",
       "      <td>0</td>\n",
       "      <td>0</td>\n",
       "    </tr>\n",
       "    <tr>\n",
       "      <th>1335</th>\n",
       "      <td>18</td>\n",
       "      <td>1</td>\n",
       "      <td>36.850</td>\n",
       "      <td>0</td>\n",
       "      <td>0</td>\n",
       "      <td>1629.83350</td>\n",
       "      <td>0</td>\n",
       "      <td>0</td>\n",
       "      <td>1</td>\n",
       "      <td>0</td>\n",
       "    </tr>\n",
       "    <tr>\n",
       "      <th>1336</th>\n",
       "      <td>21</td>\n",
       "      <td>1</td>\n",
       "      <td>25.800</td>\n",
       "      <td>0</td>\n",
       "      <td>0</td>\n",
       "      <td>2007.94500</td>\n",
       "      <td>0</td>\n",
       "      <td>0</td>\n",
       "      <td>0</td>\n",
       "      <td>1</td>\n",
       "    </tr>\n",
       "    <tr>\n",
       "      <th>1337</th>\n",
       "      <td>61</td>\n",
       "      <td>1</td>\n",
       "      <td>29.070</td>\n",
       "      <td>0</td>\n",
       "      <td>1</td>\n",
       "      <td>29141.36030</td>\n",
       "      <td>0</td>\n",
       "      <td>1</td>\n",
       "      <td>0</td>\n",
       "      <td>0</td>\n",
       "    </tr>\n",
       "  </tbody>\n",
       "</table>\n",
       "<p>1338 rows × 10 columns</p>\n",
       "</div>"
      ],
      "text/plain": [
       "      age  sex     bmi  children  smoker      charges  region_northeast  \\\n",
       "0      19    1  27.900         0       1  16884.92400                 0   \n",
       "1      18    0  33.770         1       0   1725.55230                 0   \n",
       "2      28    0  33.000         3       0   4449.46200                 0   \n",
       "3      33    0  22.705         0       0  21984.47061                 0   \n",
       "4      32    0  28.880         0       0   3866.85520                 0   \n",
       "...   ...  ...     ...       ...     ...          ...               ...   \n",
       "1333   50    0  30.970         3       0  10600.54830                 0   \n",
       "1334   18    1  31.920         0       0   2205.98080                 1   \n",
       "1335   18    1  36.850         0       0   1629.83350                 0   \n",
       "1336   21    1  25.800         0       0   2007.94500                 0   \n",
       "1337   61    1  29.070         0       1  29141.36030                 0   \n",
       "\n",
       "      region_northwest  region_southeast  region_southwest  \n",
       "0                    0                 0                 1  \n",
       "1                    0                 1                 0  \n",
       "2                    0                 1                 0  \n",
       "3                    1                 0                 0  \n",
       "4                    1                 0                 0  \n",
       "...                ...               ...               ...  \n",
       "1333                 1                 0                 0  \n",
       "1334                 0                 0                 0  \n",
       "1335                 0                 1                 0  \n",
       "1336                 0                 0                 1  \n",
       "1337                 1                 0                 0  \n",
       "\n",
       "[1338 rows x 10 columns]"
      ]
     },
     "execution_count": 24,
     "metadata": {},
     "output_type": "execute_result"
    }
   ],
   "source": [
    "df"
   ]
  },
  {
   "cell_type": "code",
   "execution_count": 25,
   "id": "fcdfbb05",
   "metadata": {},
   "outputs": [
    {
     "name": "stdout",
     "output_type": "stream",
     "text": [
      "<class 'pandas.core.frame.DataFrame'>\n",
      "RangeIndex: 1338 entries, 0 to 1337\n",
      "Data columns (total 10 columns):\n",
      " #   Column            Non-Null Count  Dtype  \n",
      "---  ------            --------------  -----  \n",
      " 0   age               1338 non-null   int64  \n",
      " 1   sex               1338 non-null   int64  \n",
      " 2   bmi               1338 non-null   float64\n",
      " 3   children          1338 non-null   int64  \n",
      " 4   smoker            1338 non-null   int64  \n",
      " 5   charges           1338 non-null   float64\n",
      " 6   region_northeast  1338 non-null   uint8  \n",
      " 7   region_northwest  1338 non-null   uint8  \n",
      " 8   region_southeast  1338 non-null   uint8  \n",
      " 9   region_southwest  1338 non-null   uint8  \n",
      "dtypes: float64(2), int64(4), uint8(4)\n",
      "memory usage: 68.1 KB\n"
     ]
    }
   ],
   "source": [
    "df.info()       # after converting catogorical data into numerical format"
   ]
  },
  {
   "cell_type": "markdown",
   "id": "25a6f6d7",
   "metadata": {},
   "source": [
    "### Detect outliers"
   ]
  },
  {
   "cell_type": "code",
   "execution_count": 26,
   "id": "050177c6",
   "metadata": {},
   "outputs": [
    {
     "data": {
      "text/plain": [
       "<AxesSubplot:>"
      ]
     },
     "execution_count": 26,
     "metadata": {},
     "output_type": "execute_result"
    },
    {
     "data": {
      "image/png": "[encoded data removed]",
      "text/plain": [
       "<Figure size 3000x1000 with 1 Axes>"
      ]
     },
     "metadata": {},
     "output_type": "display_data"
    }
   ],
   "source": [
    "plt.figure(figsize = (30,10))                # some outliers are present in bmi(feature)\n",
    "df.boxplot()"
   ]
  },
  {
   "cell_type": "markdown",
   "id": "a12587a2",
   "metadata": {},
   "source": [
    "### Detect missing values"
   ]
  },
  {
   "cell_type": "code",
   "execution_count": 27,
   "id": "19371d5a",
   "metadata": {},
   "outputs": [
    {
     "data": {
      "text/plain": [
       "age                 0\n",
       "sex                 0\n",
       "bmi                 0\n",
       "children            0\n",
       "smoker              0\n",
       "charges             0\n",
       "region_northeast    0\n",
       "region_northwest    0\n",
       "region_southeast    0\n",
       "region_southwest    0\n",
       "dtype: int64"
      ]
     },
     "execution_count": 27,
     "metadata": {},
     "output_type": "execute_result"
    }
   ],
   "source": [
    "df.isna().sum()      # there is no missing values"
   ]
  },
  {
   "cell_type": "markdown",
   "id": "9a0e67cd",
   "metadata": {},
   "source": [
    "### FEATURE ENGINEERING"
   ]
  },
  {
   "cell_type": "markdown",
   "id": "1d5b1262",
   "metadata": {},
   "source": [
    "#### imputing outliers"
   ]
  },
  {
   "cell_type": "code",
   "execution_count": 28,
   "id": "19396a91",
   "metadata": {},
   "outputs": [
    {
     "name": "stdout",
     "output_type": "stream",
     "text": [
      "q1 26.29625\n",
      "q2 30.4\n",
      "q3 34.69375\n",
      "upper_tail 47.290000000000006\n",
      "lower_tail 13.7\n"
     ]
    }
   ],
   "source": [
    "q1 = df[\"bmi\"].quantile(0.25)\n",
    "q2 = df[\"bmi\"].quantile(0.50)\n",
    "q3 = df[\"bmi\"].quantile(0.75)\n",
    "\n",
    "iqr = q3 - q1\n",
    "\n",
    "upper_tail = q3 + 1.5 * iqr\n",
    "lower_tail = q1 - 1.5 * iqr\n",
    "\n",
    "\n",
    "print(\"q1\",q1)\n",
    "print(\"q2\",q2)\n",
    "print(\"q3\",q3)\n",
    "\n",
    "print(\"upper_tail\", upper_tail)\n",
    "print(\"lower_tail\", lower_tail)"
   ]
  },
  {
   "cell_type": "code",
   "execution_count": 29,
   "id": "340f95e9",
   "metadata": {},
   "outputs": [
    {
     "data": {
      "text/plain": [
       "<AxesSubplot:xlabel='bmi'>"
      ]
     },
     "execution_count": 29,
     "metadata": {},
     "output_type": "execute_result"
    },
    {
     "data": {
      "image/png": "[encoded data removed]",
      "text/plain": [
       "<Figure size 640x480 with 1 Axes>"
      ]
     },
     "metadata": {},
     "output_type": "display_data"
    }
   ],
   "source": [
    "sns.boxplot(x = df[\"bmi\"])    "
   ]
  },
  {
   "cell_type": "code",
   "execution_count": 30,
   "id": "431f24c1",
   "metadata": {},
   "outputs": [
    {
     "data": {
      "text/plain": [
       "30.3"
      ]
     },
     "execution_count": 30,
     "metadata": {},
     "output_type": "execute_result"
    }
   ],
   "source": [
    "median_bmi = df[\"bmi\"].loc[(df[\"bmi\"] <= upper_tail) & (df[\"bmi\"] >= lower_tail)].median()\n",
    "median_bmi"
   ]
  },
  {
   "cell_type": "code",
   "execution_count": 31,
   "id": "71111747",
   "metadata": {},
   "outputs": [],
   "source": [
    "warnings.filterwarnings (\"ignore\")"
   ]
  },
  {
   "cell_type": "code",
   "execution_count": 32,
   "id": "349b8d69",
   "metadata": {},
   "outputs": [],
   "source": [
    "df[\"bmi\"].loc[(df[\"bmi\"] > upper_tail) | (df[\"bmi\"] < lower_tail)] = median_bmi"
   ]
  },
  {
   "cell_type": "code",
   "execution_count": 33,
   "id": "56bdda92",
   "metadata": {},
   "outputs": [
    {
     "data": {
      "text/plain": [
       "<AxesSubplot:xlabel='bmi'>"
      ]
     },
     "execution_count": 33,
     "metadata": {},
     "output_type": "execute_result"
    },
    {
     "data": {
      "image/png": "[encoded data removed]",
      "text/plain": [
       "<Figure size 640x480 with 1 Axes>"
      ]
     },
     "metadata": {},
     "output_type": "display_data"
    }
   ],
   "source": [
    "sns.boxplot(x = df[\"bmi\"])    "
   ]
  },
  {
   "cell_type": "code",
   "execution_count": 34,
   "id": "a81e8711",
   "metadata": {},
   "outputs": [
    {
     "data": {
      "text/html": [
       "<div>\n",
       "<style scoped>\n",
       "    .dataframe tbody tr th:only-of-type {\n",
       "        vertical-align: middle;\n",
       "    }\n",
       "\n",
       "    .dataframe tbody tr th {\n",
       "        vertical-align: top;\n",
       "    }\n",
       "\n",
       "    .dataframe thead th {\n",
       "        text-align: right;\n",
       "    }\n",
       "</style>\n",
       "<table border=\"1\" class=\"dataframe\">\n",
       "  <thead>\n",
       "    <tr style=\"text-align: right;\">\n",
       "      <th></th>\n",
       "      <th>age</th>\n",
       "      <th>sex</th>\n",
       "      <th>bmi</th>\n",
       "      <th>children</th>\n",
       "      <th>smoker</th>\n",
       "      <th>charges</th>\n",
       "      <th>region_northeast</th>\n",
       "      <th>region_northwest</th>\n",
       "      <th>region_southeast</th>\n",
       "      <th>region_southwest</th>\n",
       "    </tr>\n",
       "  </thead>\n",
       "  <tbody>\n",
       "    <tr>\n",
       "      <th>0</th>\n",
       "      <td>19</td>\n",
       "      <td>1</td>\n",
       "      <td>27.900</td>\n",
       "      <td>0</td>\n",
       "      <td>1</td>\n",
       "      <td>16884.92400</td>\n",
       "      <td>0</td>\n",
       "      <td>0</td>\n",
       "      <td>0</td>\n",
       "      <td>1</td>\n",
       "    </tr>\n",
       "    <tr>\n",
       "      <th>1</th>\n",
       "      <td>18</td>\n",
       "      <td>0</td>\n",
       "      <td>33.770</td>\n",
       "      <td>1</td>\n",
       "      <td>0</td>\n",
       "      <td>1725.55230</td>\n",
       "      <td>0</td>\n",
       "      <td>0</td>\n",
       "      <td>1</td>\n",
       "      <td>0</td>\n",
       "    </tr>\n",
       "    <tr>\n",
       "      <th>2</th>\n",
       "      <td>28</td>\n",
       "      <td>0</td>\n",
       "      <td>33.000</td>\n",
       "      <td>3</td>\n",
       "      <td>0</td>\n",
       "      <td>4449.46200</td>\n",
       "      <td>0</td>\n",
       "      <td>0</td>\n",
       "      <td>1</td>\n",
       "      <td>0</td>\n",
       "    </tr>\n",
       "    <tr>\n",
       "      <th>3</th>\n",
       "      <td>33</td>\n",
       "      <td>0</td>\n",
       "      <td>22.705</td>\n",
       "      <td>0</td>\n",
       "      <td>0</td>\n",
       "      <td>21984.47061</td>\n",
       "      <td>0</td>\n",
       "      <td>1</td>\n",
       "      <td>0</td>\n",
       "      <td>0</td>\n",
       "    </tr>\n",
       "    <tr>\n",
       "      <th>4</th>\n",
       "      <td>32</td>\n",
       "      <td>0</td>\n",
       "      <td>28.880</td>\n",
       "      <td>0</td>\n",
       "      <td>0</td>\n",
       "      <td>3866.85520</td>\n",
       "      <td>0</td>\n",
       "      <td>1</td>\n",
       "      <td>0</td>\n",
       "      <td>0</td>\n",
       "    </tr>\n",
       "    <tr>\n",
       "      <th>...</th>\n",
       "      <td>...</td>\n",
       "      <td>...</td>\n",
       "      <td>...</td>\n",
       "      <td>...</td>\n",
       "      <td>...</td>\n",
       "      <td>...</td>\n",
       "      <td>...</td>\n",
       "      <td>...</td>\n",
       "      <td>...</td>\n",
       "      <td>...</td>\n",
       "    </tr>\n",
       "    <tr>\n",
       "      <th>1333</th>\n",
       "      <td>50</td>\n",
       "      <td>0</td>\n",
       "      <td>30.970</td>\n",
       "      <td>3</td>\n",
       "      <td>0</td>\n",
       "      <td>10600.54830</td>\n",
       "      <td>0</td>\n",
       "      <td>1</td>\n",
       "      <td>0</td>\n",
       "      <td>0</td>\n",
       "    </tr>\n",
       "    <tr>\n",
       "      <th>1334</th>\n",
       "      <td>18</td>\n",
       "      <td>1</td>\n",
       "      <td>31.920</td>\n",
       "      <td>0</td>\n",
       "      <td>0</td>\n",
       "      <td>2205.98080</td>\n",
       "      <td>1</td>\n",
       "      <td>0</td>\n",
       "      <td>0</td>\n",
       "      <td>0</td>\n",
       "    </tr>\n",
       "    <tr>\n",
       "      <th>1335</th>\n",
       "      <td>18</td>\n",
       "      <td>1</td>\n",
       "      <td>36.850</td>\n",
       "      <td>0</td>\n",
       "      <td>0</td>\n",
       "      <td>1629.83350</td>\n",
       "      <td>0</td>\n",
       "      <td>0</td>\n",
       "      <td>1</td>\n",
       "      <td>0</td>\n",
       "    </tr>\n",
       "    <tr>\n",
       "      <th>1336</th>\n",
       "      <td>21</td>\n",
       "      <td>1</td>\n",
       "      <td>25.800</td>\n",
       "      <td>0</td>\n",
       "      <td>0</td>\n",
       "      <td>2007.94500</td>\n",
       "      <td>0</td>\n",
       "      <td>0</td>\n",
       "      <td>0</td>\n",
       "      <td>1</td>\n",
       "    </tr>\n",
       "    <tr>\n",
       "      <th>1337</th>\n",
       "      <td>61</td>\n",
       "      <td>1</td>\n",
       "      <td>29.070</td>\n",
       "      <td>0</td>\n",
       "      <td>1</td>\n",
       "      <td>29141.36030</td>\n",
       "      <td>0</td>\n",
       "      <td>1</td>\n",
       "      <td>0</td>\n",
       "      <td>0</td>\n",
       "    </tr>\n",
       "  </tbody>\n",
       "</table>\n",
       "<p>1338 rows × 10 columns</p>\n",
       "</div>"
      ],
      "text/plain": [
       "      age  sex     bmi  children  smoker      charges  region_northeast  \\\n",
       "0      19    1  27.900         0       1  16884.92400                 0   \n",
       "1      18    0  33.770         1       0   1725.55230                 0   \n",
       "2      28    0  33.000         3       0   4449.46200                 0   \n",
       "3      33    0  22.705         0       0  21984.47061                 0   \n",
       "4      32    0  28.880         0       0   3866.85520                 0   \n",
       "...   ...  ...     ...       ...     ...          ...               ...   \n",
       "1333   50    0  30.970         3       0  10600.54830                 0   \n",
       "1334   18    1  31.920         0       0   2205.98080                 1   \n",
       "1335   18    1  36.850         0       0   1629.83350                 0   \n",
       "1336   21    1  25.800         0       0   2007.94500                 0   \n",
       "1337   61    1  29.070         0       1  29141.36030                 0   \n",
       "\n",
       "      region_northwest  region_southeast  region_southwest  \n",
       "0                    0                 0                 1  \n",
       "1                    0                 1                 0  \n",
       "2                    0                 1                 0  \n",
       "3                    1                 0                 0  \n",
       "4                    1                 0                 0  \n",
       "...                ...               ...               ...  \n",
       "1333                 1                 0                 0  \n",
       "1334                 0                 0                 0  \n",
       "1335                 0                 1                 0  \n",
       "1336                 0                 0                 1  \n",
       "1337                 1                 0                 0  \n",
       "\n",
       "[1338 rows x 10 columns]"
      ]
     },
     "execution_count": 34,
     "metadata": {},
     "output_type": "execute_result"
    }
   ],
   "source": [
    "df"
   ]
  },
  {
   "cell_type": "markdown",
   "id": "12fcfcff",
   "metadata": {},
   "source": [
    "### FEATURE SELECTION"
   ]
  },
  {
   "cell_type": "markdown",
   "id": "ce47e198",
   "metadata": {},
   "source": [
    "### Linearity"
   ]
  },
  {
   "cell_type": "code",
   "execution_count": 35,
   "id": "4a081b12",
   "metadata": {},
   "outputs": [
    {
     "data": {
      "text/html": [
       "<div>\n",
       "<style scoped>\n",
       "    .dataframe tbody tr th:only-of-type {\n",
       "        vertical-align: middle;\n",
       "    }\n",
       "\n",
       "    .dataframe tbody tr th {\n",
       "        vertical-align: top;\n",
       "    }\n",
       "\n",
       "    .dataframe thead th {\n",
       "        text-align: right;\n",
       "    }\n",
       "</style>\n",
       "<table border=\"1\" class=\"dataframe\">\n",
       "  <thead>\n",
       "    <tr style=\"text-align: right;\">\n",
       "      <th></th>\n",
       "      <th>age</th>\n",
       "      <th>sex</th>\n",
       "      <th>bmi</th>\n",
       "      <th>children</th>\n",
       "      <th>smoker</th>\n",
       "      <th>region_northeast</th>\n",
       "      <th>region_northwest</th>\n",
       "      <th>region_southeast</th>\n",
       "      <th>region_southwest</th>\n",
       "      <th>charges</th>\n",
       "    </tr>\n",
       "  </thead>\n",
       "  <tbody>\n",
       "    <tr>\n",
       "      <th>0</th>\n",
       "      <td>19</td>\n",
       "      <td>1</td>\n",
       "      <td>27.900</td>\n",
       "      <td>0</td>\n",
       "      <td>1</td>\n",
       "      <td>0</td>\n",
       "      <td>0</td>\n",
       "      <td>0</td>\n",
       "      <td>1</td>\n",
       "      <td>16884.92400</td>\n",
       "    </tr>\n",
       "    <tr>\n",
       "      <th>1</th>\n",
       "      <td>18</td>\n",
       "      <td>0</td>\n",
       "      <td>33.770</td>\n",
       "      <td>1</td>\n",
       "      <td>0</td>\n",
       "      <td>0</td>\n",
       "      <td>0</td>\n",
       "      <td>1</td>\n",
       "      <td>0</td>\n",
       "      <td>1725.55230</td>\n",
       "    </tr>\n",
       "    <tr>\n",
       "      <th>2</th>\n",
       "      <td>28</td>\n",
       "      <td>0</td>\n",
       "      <td>33.000</td>\n",
       "      <td>3</td>\n",
       "      <td>0</td>\n",
       "      <td>0</td>\n",
       "      <td>0</td>\n",
       "      <td>1</td>\n",
       "      <td>0</td>\n",
       "      <td>4449.46200</td>\n",
       "    </tr>\n",
       "    <tr>\n",
       "      <th>3</th>\n",
       "      <td>33</td>\n",
       "      <td>0</td>\n",
       "      <td>22.705</td>\n",
       "      <td>0</td>\n",
       "      <td>0</td>\n",
       "      <td>0</td>\n",
       "      <td>1</td>\n",
       "      <td>0</td>\n",
       "      <td>0</td>\n",
       "      <td>21984.47061</td>\n",
       "    </tr>\n",
       "    <tr>\n",
       "      <th>4</th>\n",
       "      <td>32</td>\n",
       "      <td>0</td>\n",
       "      <td>28.880</td>\n",
       "      <td>0</td>\n",
       "      <td>0</td>\n",
       "      <td>0</td>\n",
       "      <td>1</td>\n",
       "      <td>0</td>\n",
       "      <td>0</td>\n",
       "      <td>3866.85520</td>\n",
       "    </tr>\n",
       "    <tr>\n",
       "      <th>...</th>\n",
       "      <td>...</td>\n",
       "      <td>...</td>\n",
       "      <td>...</td>\n",
       "      <td>...</td>\n",
       "      <td>...</td>\n",
       "      <td>...</td>\n",
       "      <td>...</td>\n",
       "      <td>...</td>\n",
       "      <td>...</td>\n",
       "      <td>...</td>\n",
       "    </tr>\n",
       "    <tr>\n",
       "      <th>1333</th>\n",
       "      <td>50</td>\n",
       "      <td>0</td>\n",
       "      <td>30.970</td>\n",
       "      <td>3</td>\n",
       "      <td>0</td>\n",
       "      <td>0</td>\n",
       "      <td>1</td>\n",
       "      <td>0</td>\n",
       "      <td>0</td>\n",
       "      <td>10600.54830</td>\n",
       "    </tr>\n",
       "    <tr>\n",
       "      <th>1334</th>\n",
       "      <td>18</td>\n",
       "      <td>1</td>\n",
       "      <td>31.920</td>\n",
       "      <td>0</td>\n",
       "      <td>0</td>\n",
       "      <td>1</td>\n",
       "      <td>0</td>\n",
       "      <td>0</td>\n",
       "      <td>0</td>\n",
       "      <td>2205.98080</td>\n",
       "    </tr>\n",
       "    <tr>\n",
       "      <th>1335</th>\n",
       "      <td>18</td>\n",
       "      <td>1</td>\n",
       "      <td>36.850</td>\n",
       "      <td>0</td>\n",
       "      <td>0</td>\n",
       "      <td>0</td>\n",
       "      <td>0</td>\n",
       "      <td>1</td>\n",
       "      <td>0</td>\n",
       "      <td>1629.83350</td>\n",
       "    </tr>\n",
       "    <tr>\n",
       "      <th>1336</th>\n",
       "      <td>21</td>\n",
       "      <td>1</td>\n",
       "      <td>25.800</td>\n",
       "      <td>0</td>\n",
       "      <td>0</td>\n",
       "      <td>0</td>\n",
       "      <td>0</td>\n",
       "      <td>0</td>\n",
       "      <td>1</td>\n",
       "      <td>2007.94500</td>\n",
       "    </tr>\n",
       "    <tr>\n",
       "      <th>1337</th>\n",
       "      <td>61</td>\n",
       "      <td>1</td>\n",
       "      <td>29.070</td>\n",
       "      <td>0</td>\n",
       "      <td>1</td>\n",
       "      <td>0</td>\n",
       "      <td>1</td>\n",
       "      <td>0</td>\n",
       "      <td>0</td>\n",
       "      <td>29141.36030</td>\n",
       "    </tr>\n",
       "  </tbody>\n",
       "</table>\n",
       "<p>1338 rows × 10 columns</p>\n",
       "</div>"
      ],
      "text/plain": [
       "      age  sex     bmi  children  smoker  region_northeast  region_northwest  \\\n",
       "0      19    1  27.900         0       1                 0                 0   \n",
       "1      18    0  33.770         1       0                 0                 0   \n",
       "2      28    0  33.000         3       0                 0                 0   \n",
       "3      33    0  22.705         0       0                 0                 1   \n",
       "4      32    0  28.880         0       0                 0                 1   \n",
       "...   ...  ...     ...       ...     ...               ...               ...   \n",
       "1333   50    0  30.970         3       0                 0                 1   \n",
       "1334   18    1  31.920         0       0                 1                 0   \n",
       "1335   18    1  36.850         0       0                 0                 0   \n",
       "1336   21    1  25.800         0       0                 0                 0   \n",
       "1337   61    1  29.070         0       1                 0                 1   \n",
       "\n",
       "      region_southeast  region_southwest      charges  \n",
       "0                    0                 1  16884.92400  \n",
       "1                    1                 0   1725.55230  \n",
       "2                    1                 0   4449.46200  \n",
       "3                    0                 0  21984.47061  \n",
       "4                    0                 0   3866.85520  \n",
       "...                ...               ...          ...  \n",
       "1333                 0                 0  10600.54830  \n",
       "1334                 0                 0   2205.98080  \n",
       "1335                 1                 0   1629.83350  \n",
       "1336                 0                 1   2007.94500  \n",
       "1337                 0                 0  29141.36030  \n",
       "\n",
       "[1338 rows x 10 columns]"
      ]
     },
     "execution_count": 35,
     "metadata": {},
     "output_type": "execute_result"
    }
   ],
   "source": [
    "df1 = df.drop(\"charges\",axis = 1)\n",
    "df2 = df[\"charges\"]\n",
    "df3 = pd.concat([df1,df2],axis = 1)\n",
    "df3"
   ]
  },
  {
   "cell_type": "code",
   "execution_count": 36,
   "id": "54ef0fa3",
   "metadata": {},
   "outputs": [
    {
     "data": {
      "text/html": [
       "<div>\n",
       "<style scoped>\n",
       "    .dataframe tbody tr th:only-of-type {\n",
       "        vertical-align: middle;\n",
       "    }\n",
       "\n",
       "    .dataframe tbody tr th {\n",
       "        vertical-align: top;\n",
       "    }\n",
       "\n",
       "    .dataframe thead th {\n",
       "        text-align: right;\n",
       "    }\n",
       "</style>\n",
       "<table border=\"1\" class=\"dataframe\">\n",
       "  <thead>\n",
       "    <tr style=\"text-align: right;\">\n",
       "      <th></th>\n",
       "      <th>age</th>\n",
       "      <th>sex</th>\n",
       "      <th>bmi</th>\n",
       "      <th>children</th>\n",
       "      <th>smoker</th>\n",
       "      <th>region_northeast</th>\n",
       "      <th>region_northwest</th>\n",
       "      <th>region_southeast</th>\n",
       "      <th>region_southwest</th>\n",
       "      <th>charges</th>\n",
       "    </tr>\n",
       "  </thead>\n",
       "  <tbody>\n",
       "    <tr>\n",
       "      <th>age</th>\n",
       "      <td>1.000000</td>\n",
       "      <td>0.020856</td>\n",
       "      <td>0.114273</td>\n",
       "      <td>0.042469</td>\n",
       "      <td>-0.025019</td>\n",
       "      <td>0.002475</td>\n",
       "      <td>-0.000407</td>\n",
       "      <td>-0.011642</td>\n",
       "      <td>0.010016</td>\n",
       "      <td>0.299008</td>\n",
       "    </tr>\n",
       "    <tr>\n",
       "      <th>sex</th>\n",
       "      <td>0.020856</td>\n",
       "      <td>1.000000</td>\n",
       "      <td>-0.039736</td>\n",
       "      <td>-0.017163</td>\n",
       "      <td>-0.076185</td>\n",
       "      <td>0.002425</td>\n",
       "      <td>0.011156</td>\n",
       "      <td>-0.017117</td>\n",
       "      <td>0.004184</td>\n",
       "      <td>-0.057292</td>\n",
       "    </tr>\n",
       "    <tr>\n",
       "      <th>bmi</th>\n",
       "      <td>0.114273</td>\n",
       "      <td>-0.039736</td>\n",
       "      <td>1.000000</td>\n",
       "      <td>0.017377</td>\n",
       "      <td>-0.002943</td>\n",
       "      <td>-0.135819</td>\n",
       "      <td>-0.128304</td>\n",
       "      <td>0.253677</td>\n",
       "      <td>0.000733</td>\n",
       "      <td>0.190559</td>\n",
       "    </tr>\n",
       "    <tr>\n",
       "      <th>children</th>\n",
       "      <td>0.042469</td>\n",
       "      <td>-0.017163</td>\n",
       "      <td>0.017377</td>\n",
       "      <td>1.000000</td>\n",
       "      <td>0.007673</td>\n",
       "      <td>-0.022808</td>\n",
       "      <td>0.024806</td>\n",
       "      <td>-0.023066</td>\n",
       "      <td>0.021914</td>\n",
       "      <td>0.067998</td>\n",
       "    </tr>\n",
       "    <tr>\n",
       "      <th>smoker</th>\n",
       "      <td>-0.025019</td>\n",
       "      <td>-0.076185</td>\n",
       "      <td>-0.002943</td>\n",
       "      <td>0.007673</td>\n",
       "      <td>1.000000</td>\n",
       "      <td>0.002811</td>\n",
       "      <td>-0.036945</td>\n",
       "      <td>0.068498</td>\n",
       "      <td>-0.036945</td>\n",
       "      <td>0.787251</td>\n",
       "    </tr>\n",
       "    <tr>\n",
       "      <th>region_northeast</th>\n",
       "      <td>0.002475</td>\n",
       "      <td>0.002425</td>\n",
       "      <td>-0.135819</td>\n",
       "      <td>-0.022808</td>\n",
       "      <td>0.002811</td>\n",
       "      <td>1.000000</td>\n",
       "      <td>-0.320177</td>\n",
       "      <td>-0.345561</td>\n",
       "      <td>-0.320177</td>\n",
       "      <td>0.006349</td>\n",
       "    </tr>\n",
       "    <tr>\n",
       "      <th>region_northwest</th>\n",
       "      <td>-0.000407</td>\n",
       "      <td>0.011156</td>\n",
       "      <td>-0.128304</td>\n",
       "      <td>0.024806</td>\n",
       "      <td>-0.036945</td>\n",
       "      <td>-0.320177</td>\n",
       "      <td>1.000000</td>\n",
       "      <td>-0.346265</td>\n",
       "      <td>-0.320829</td>\n",
       "      <td>-0.039905</td>\n",
       "    </tr>\n",
       "    <tr>\n",
       "      <th>region_southeast</th>\n",
       "      <td>-0.011642</td>\n",
       "      <td>-0.017117</td>\n",
       "      <td>0.253677</td>\n",
       "      <td>-0.023066</td>\n",
       "      <td>0.068498</td>\n",
       "      <td>-0.345561</td>\n",
       "      <td>-0.346265</td>\n",
       "      <td>1.000000</td>\n",
       "      <td>-0.346265</td>\n",
       "      <td>0.073982</td>\n",
       "    </tr>\n",
       "    <tr>\n",
       "      <th>region_southwest</th>\n",
       "      <td>0.010016</td>\n",
       "      <td>0.004184</td>\n",
       "      <td>0.000733</td>\n",
       "      <td>0.021914</td>\n",
       "      <td>-0.036945</td>\n",
       "      <td>-0.320177</td>\n",
       "      <td>-0.320829</td>\n",
       "      <td>-0.346265</td>\n",
       "      <td>1.000000</td>\n",
       "      <td>-0.043210</td>\n",
       "    </tr>\n",
       "    <tr>\n",
       "      <th>charges</th>\n",
       "      <td>0.299008</td>\n",
       "      <td>-0.057292</td>\n",
       "      <td>0.190559</td>\n",
       "      <td>0.067998</td>\n",
       "      <td>0.787251</td>\n",
       "      <td>0.006349</td>\n",
       "      <td>-0.039905</td>\n",
       "      <td>0.073982</td>\n",
       "      <td>-0.043210</td>\n",
       "      <td>1.000000</td>\n",
       "    </tr>\n",
       "  </tbody>\n",
       "</table>\n",
       "</div>"
      ],
      "text/plain": [
       "                       age       sex       bmi  children    smoker  \\\n",
       "age               1.000000  0.020856  0.114273  0.042469 -0.025019   \n",
       "sex               0.020856  1.000000 -0.039736 -0.017163 -0.076185   \n",
       "bmi               0.114273 -0.039736  1.000000  0.017377 -0.002943   \n",
       "children          0.042469 -0.017163  0.017377  1.000000  0.007673   \n",
       "smoker           -0.025019 -0.076185 -0.002943  0.007673  1.000000   \n",
       "region_northeast  0.002475  0.002425 -0.135819 -0.022808  0.002811   \n",
       "region_northwest -0.000407  0.011156 -0.128304  0.024806 -0.036945   \n",
       "region_southeast -0.011642 -0.017117  0.253677 -0.023066  0.068498   \n",
       "region_southwest  0.010016  0.004184  0.000733  0.021914 -0.036945   \n",
       "charges           0.299008 -0.057292  0.190559  0.067998  0.787251   \n",
       "\n",
       "                  region_northeast  region_northwest  region_southeast  \\\n",
       "age                       0.002475         -0.000407         -0.011642   \n",
       "sex                       0.002425          0.011156         -0.017117   \n",
       "bmi                      -0.135819         -0.128304          0.253677   \n",
       "children                 -0.022808          0.024806         -0.023066   \n",
       "smoker                    0.002811         -0.036945          0.068498   \n",
       "region_northeast          1.000000         -0.320177         -0.345561   \n",
       "region_northwest         -0.320177          1.000000         -0.346265   \n",
       "region_southeast         -0.345561         -0.346265          1.000000   \n",
       "region_southwest         -0.320177         -0.320829         -0.346265   \n",
       "charges                   0.006349         -0.039905          0.073982   \n",
       "\n",
       "                  region_southwest   charges  \n",
       "age                       0.010016  0.299008  \n",
       "sex                       0.004184 -0.057292  \n",
       "bmi                       0.000733  0.190559  \n",
       "children                  0.021914  0.067998  \n",
       "smoker                   -0.036945  0.787251  \n",
       "region_northeast         -0.320177  0.006349  \n",
       "region_northwest         -0.320829 -0.039905  \n",
       "region_southeast         -0.346265  0.073982  \n",
       "region_southwest          1.000000 -0.043210  \n",
       "charges                  -0.043210  1.000000  "
      ]
     },
     "execution_count": 36,
     "metadata": {},
     "output_type": "execute_result"
    }
   ],
   "source": [
    "df3.corr()"
   ]
  },
  {
   "cell_type": "code",
   "execution_count": 37,
   "id": "ddccd221",
   "metadata": {},
   "outputs": [
    {
     "data": {
      "text/plain": [
       "<AxesSubplot:>"
      ]
     },
     "execution_count": 37,
     "metadata": {},
     "output_type": "execute_result"
    },
    {
     "data": {
      "image/png": "[encoded data removed]",
      "text/plain": [
       "<Figure size 3000x200 with 2 Axes>"
      ]
     },
     "metadata": {},
     "output_type": "display_data"
    }
   ],
   "source": [
    "plt.figure(figsize = (30,2))\n",
    "sns.heatmap(df3.corr().tail(1),annot = True)"
   ]
  },
  {
   "cell_type": "markdown",
   "id": "9b25d629",
   "metadata": {},
   "source": [
    "### No Multicolinearity"
   ]
  },
  {
   "cell_type": "code",
   "execution_count": 38,
   "id": "7e39f521",
   "metadata": {},
   "outputs": [
    {
     "data": {
      "text/html": [
       "<div>\n",
       "<style scoped>\n",
       "    .dataframe tbody tr th:only-of-type {\n",
       "        vertical-align: middle;\n",
       "    }\n",
       "\n",
       "    .dataframe tbody tr th {\n",
       "        vertical-align: top;\n",
       "    }\n",
       "\n",
       "    .dataframe thead th {\n",
       "        text-align: right;\n",
       "    }\n",
       "</style>\n",
       "<table border=\"1\" class=\"dataframe\">\n",
       "  <thead>\n",
       "    <tr style=\"text-align: right;\">\n",
       "      <th></th>\n",
       "      <th>age</th>\n",
       "      <th>sex</th>\n",
       "      <th>bmi</th>\n",
       "      <th>children</th>\n",
       "      <th>smoker</th>\n",
       "      <th>region_northeast</th>\n",
       "      <th>region_northwest</th>\n",
       "      <th>region_southeast</th>\n",
       "      <th>region_southwest</th>\n",
       "    </tr>\n",
       "  </thead>\n",
       "  <tbody>\n",
       "    <tr>\n",
       "      <th>0</th>\n",
       "      <td>19</td>\n",
       "      <td>1</td>\n",
       "      <td>27.900</td>\n",
       "      <td>0</td>\n",
       "      <td>1</td>\n",
       "      <td>0</td>\n",
       "      <td>0</td>\n",
       "      <td>0</td>\n",
       "      <td>1</td>\n",
       "    </tr>\n",
       "    <tr>\n",
       "      <th>1</th>\n",
       "      <td>18</td>\n",
       "      <td>0</td>\n",
       "      <td>33.770</td>\n",
       "      <td>1</td>\n",
       "      <td>0</td>\n",
       "      <td>0</td>\n",
       "      <td>0</td>\n",
       "      <td>1</td>\n",
       "      <td>0</td>\n",
       "    </tr>\n",
       "    <tr>\n",
       "      <th>2</th>\n",
       "      <td>28</td>\n",
       "      <td>0</td>\n",
       "      <td>33.000</td>\n",
       "      <td>3</td>\n",
       "      <td>0</td>\n",
       "      <td>0</td>\n",
       "      <td>0</td>\n",
       "      <td>1</td>\n",
       "      <td>0</td>\n",
       "    </tr>\n",
       "    <tr>\n",
       "      <th>3</th>\n",
       "      <td>33</td>\n",
       "      <td>0</td>\n",
       "      <td>22.705</td>\n",
       "      <td>0</td>\n",
       "      <td>0</td>\n",
       "      <td>0</td>\n",
       "      <td>1</td>\n",
       "      <td>0</td>\n",
       "      <td>0</td>\n",
       "    </tr>\n",
       "    <tr>\n",
       "      <th>4</th>\n",
       "      <td>32</td>\n",
       "      <td>0</td>\n",
       "      <td>28.880</td>\n",
       "      <td>0</td>\n",
       "      <td>0</td>\n",
       "      <td>0</td>\n",
       "      <td>1</td>\n",
       "      <td>0</td>\n",
       "      <td>0</td>\n",
       "    </tr>\n",
       "    <tr>\n",
       "      <th>...</th>\n",
       "      <td>...</td>\n",
       "      <td>...</td>\n",
       "      <td>...</td>\n",
       "      <td>...</td>\n",
       "      <td>...</td>\n",
       "      <td>...</td>\n",
       "      <td>...</td>\n",
       "      <td>...</td>\n",
       "      <td>...</td>\n",
       "    </tr>\n",
       "    <tr>\n",
       "      <th>1333</th>\n",
       "      <td>50</td>\n",
       "      <td>0</td>\n",
       "      <td>30.970</td>\n",
       "      <td>3</td>\n",
       "      <td>0</td>\n",
       "      <td>0</td>\n",
       "      <td>1</td>\n",
       "      <td>0</td>\n",
       "      <td>0</td>\n",
       "    </tr>\n",
       "    <tr>\n",
       "      <th>1334</th>\n",
       "      <td>18</td>\n",
       "      <td>1</td>\n",
       "      <td>31.920</td>\n",
       "      <td>0</td>\n",
       "      <td>0</td>\n",
       "      <td>1</td>\n",
       "      <td>0</td>\n",
       "      <td>0</td>\n",
       "      <td>0</td>\n",
       "    </tr>\n",
       "    <tr>\n",
       "      <th>1335</th>\n",
       "      <td>18</td>\n",
       "      <td>1</td>\n",
       "      <td>36.850</td>\n",
       "      <td>0</td>\n",
       "      <td>0</td>\n",
       "      <td>0</td>\n",
       "      <td>0</td>\n",
       "      <td>1</td>\n",
       "      <td>0</td>\n",
       "    </tr>\n",
       "    <tr>\n",
       "      <th>1336</th>\n",
       "      <td>21</td>\n",
       "      <td>1</td>\n",
       "      <td>25.800</td>\n",
       "      <td>0</td>\n",
       "      <td>0</td>\n",
       "      <td>0</td>\n",
       "      <td>0</td>\n",
       "      <td>0</td>\n",
       "      <td>1</td>\n",
       "    </tr>\n",
       "    <tr>\n",
       "      <th>1337</th>\n",
       "      <td>61</td>\n",
       "      <td>1</td>\n",
       "      <td>29.070</td>\n",
       "      <td>0</td>\n",
       "      <td>1</td>\n",
       "      <td>0</td>\n",
       "      <td>1</td>\n",
       "      <td>0</td>\n",
       "      <td>0</td>\n",
       "    </tr>\n",
       "  </tbody>\n",
       "</table>\n",
       "<p>1338 rows × 9 columns</p>\n",
       "</div>"
      ],
      "text/plain": [
       "      age  sex     bmi  children  smoker  region_northeast  region_northwest  \\\n",
       "0      19    1  27.900         0       1                 0                 0   \n",
       "1      18    0  33.770         1       0                 0                 0   \n",
       "2      28    0  33.000         3       0                 0                 0   \n",
       "3      33    0  22.705         0       0                 0                 1   \n",
       "4      32    0  28.880         0       0                 0                 1   \n",
       "...   ...  ...     ...       ...     ...               ...               ...   \n",
       "1333   50    0  30.970         3       0                 0                 1   \n",
       "1334   18    1  31.920         0       0                 1                 0   \n",
       "1335   18    1  36.850         0       0                 0                 0   \n",
       "1336   21    1  25.800         0       0                 0                 0   \n",
       "1337   61    1  29.070         0       1                 0                 1   \n",
       "\n",
       "      region_southeast  region_southwest  \n",
       "0                    0                 1  \n",
       "1                    1                 0  \n",
       "2                    1                 0  \n",
       "3                    0                 0  \n",
       "4                    0                 0  \n",
       "...                ...               ...  \n",
       "1333                 0                 0  \n",
       "1334                 0                 0  \n",
       "1335                 1                 0  \n",
       "1336                 0                 1  \n",
       "1337                 0                 0  \n",
       "\n",
       "[1338 rows x 9 columns]"
      ]
     },
     "execution_count": 38,
     "metadata": {},
     "output_type": "execute_result"
    }
   ],
   "source": [
    "df1"
   ]
  },
  {
   "cell_type": "code",
   "execution_count": 39,
   "id": "1b7280c6",
   "metadata": {},
   "outputs": [
    {
     "data": {
      "text/plain": [
       "<AxesSubplot:>"
      ]
     },
     "execution_count": 39,
     "metadata": {},
     "output_type": "execute_result"
    },
    {
     "data": {
      "image/png": "[encoded data removed]",
      "text/plain": [
       "<Figure size 640x480 with 1 Axes>"
      ]
     },
     "metadata": {},
     "output_type": "display_data"
    }
   ],
   "source": [
    "Vif_list = []\n",
    "\n",
    "for i in range(df1.shape[1]):\n",
    "    \n",
    "    vif = variance_inflation_factor(df1.to_numpy(),i)\n",
    "    \n",
    "    Vif_list.append(vif)\n",
    "    \n",
    "df2 = pd.Series(Vif_list, index = df1.columns)\n",
    "\n",
    "df2.plot(kind = \"barh\")\n",
    "    \n",
    "    "
   ]
  },
  {
   "cell_type": "code",
   "execution_count": null,
   "id": "ff183363",
   "metadata": {},
   "outputs": [],
   "source": []
  },
  {
   "cell_type": "markdown",
   "id": "22e96b24",
   "metadata": {},
   "source": [
    "### MODEL BUILDING"
   ]
  },
  {
   "cell_type": "code",
   "execution_count": 40,
   "id": "a2efdb9c",
   "metadata": {},
   "outputs": [],
   "source": [
    "x = df.drop(\"charges\",axis = 1)\n",
    "y = df[\"charges\"]"
   ]
  },
  {
   "cell_type": "code",
   "execution_count": 41,
   "id": "b9ba4e3d",
   "metadata": {},
   "outputs": [],
   "source": [
    "model_details = []\n",
    "training_accuracy = []\n",
    "testing_accuracy = []"
   ]
  },
  {
   "cell_type": "code",
   "execution_count": 42,
   "id": "a3c31d61",
   "metadata": {},
   "outputs": [],
   "source": [
    "x_train, x_test, y_train , y_test = train_test_split(x,y, train_size=0.8 , random_state=11)"
   ]
  },
  {
   "cell_type": "code",
   "execution_count": 43,
   "id": "586f911b",
   "metadata": {},
   "outputs": [],
   "source": [
    "model = LinearRegression()     #create instance of the model\n",
    "model_details.append(\"linear_Regression\")"
   ]
  },
  {
   "cell_type": "code",
   "execution_count": 44,
   "id": "7f4bc621",
   "metadata": {},
   "outputs": [
    {
     "data": {
      "text/plain": [
       "LinearRegression()"
      ]
     },
     "execution_count": 44,
     "metadata": {},
     "output_type": "execute_result"
    }
   ],
   "source": [
    "model.fit(x_train , y_train)    # we fit the model on training datasets"
   ]
  },
  {
   "cell_type": "code",
   "execution_count": 45,
   "id": "b9f324ae",
   "metadata": {},
   "outputs": [
    {
     "data": {
      "text/plain": [
       "array([  264.94034899,   366.06178021,   339.29394692,   535.13746696,\n",
       "       23595.1809077 ,   616.26119233,   131.46406971,  -302.59581547,\n",
       "        -445.12944658])"
      ]
     },
     "execution_count": 45,
     "metadata": {},
     "output_type": "execute_result"
    }
   ],
   "source": [
    "model.coef_           # It will give slop"
   ]
  },
  {
   "cell_type": "markdown",
   "id": "4b42dbde",
   "metadata": {},
   "source": [
    "### MODEL EVALUATION"
   ]
  },
  {
   "cell_type": "markdown",
   "id": "1cdbe4d3",
   "metadata": {},
   "source": [
    "#### Training dataset"
   ]
  },
  {
   "cell_type": "code",
   "execution_count": 46,
   "id": "a926b387",
   "metadata": {},
   "outputs": [
    {
     "data": {
      "text/plain": [
       "array([11243.65282169,  2582.22338622,  9429.78090149, ...,\n",
       "        9597.46492951, 12827.20383375,  6406.83282614])"
      ]
     },
     "execution_count": 46,
     "metadata": {},
     "output_type": "execute_result"
    }
   ],
   "source": [
    "y_pred = model.predict(x_train)\n",
    "y_pred"
   ]
  },
  {
   "cell_type": "code",
   "execution_count": 47,
   "id": "b038d962",
   "metadata": {},
   "outputs": [
    {
     "data": {
      "text/plain": [
       "316     -2408.387872\n",
       "340     16372.996784\n",
       "151     -1640.145901\n",
       "1282    -9350.287394\n",
       "557     -3315.651816\n",
       "            ...     \n",
       "583     13587.033324\n",
       "332      -740.460866\n",
       "1293     -295.571380\n",
       "1115    -2019.717534\n",
       "1104    14013.771824\n",
       "Name: charges, Length: 1070, dtype: float64"
      ]
     },
     "execution_count": 47,
     "metadata": {},
     "output_type": "execute_result"
    }
   ],
   "source": [
    "residual = y_train - y_pred \n",
    "residual"
   ]
  },
  {
   "cell_type": "code",
   "execution_count": 48,
   "id": "b6dc4ee6",
   "metadata": {},
   "outputs": [
    {
     "data": {
      "text/plain": [
       "<AxesSubplot:xlabel='charges', ylabel='Density'>"
      ]
     },
     "execution_count": 48,
     "metadata": {},
     "output_type": "execute_result"
    },
    {
     "data": {
      "image/png": "[encoded data removed]",
      "text/plain": [
       "<Figure size 640x480 with 1 Axes>"
      ]
     },
     "metadata": {},
     "output_type": "display_data"
    }
   ],
   "source": [
    "sns.kdeplot(residual)           # plot resudual        # it is not narmally distributed"
   ]
  },
  {
   "cell_type": "code",
   "execution_count": 49,
   "id": "837dad1d",
   "metadata": {},
   "outputs": [
    {
     "name": "stdout",
     "output_type": "stream",
     "text": [
      "MSE on training dataset ---> 39093416.86269204\n",
      "RMSE on training dataset ---> 6252.472859812511\n",
      "MAE on training dataset ---> 4303.040693780996\n",
      "R2 on training dataset ---> 0.7367268644649843\n",
      "Adjusted R Squared Value ---> 0.7344915265217624\n"
     ]
    }
   ],
   "source": [
    "MSE = mean_squared_error(y_train , y_pred)\n",
    "\n",
    "RMSE = np.sqrt(MSE)\n",
    "\n",
    "MAE = mean_absolute_error(y_train , y_pred)\n",
    "\n",
    "R2_training = model.score(x_train, y_train)\n",
    "\n",
    "adj_r2_training = 1 - (((1 - R2_training) * (x_train.shape[0] - 1)) / (x_train.shape[0] - x_train.shape[1] - 1))\n",
    "\n",
    "print(\"MSE on training dataset --->\", MSE)\n",
    "\n",
    "print(\"RMSE on training dataset --->\",RMSE)\n",
    "\n",
    "print(\"MAE on training dataset --->\", MAE)\n",
    "\n",
    "print(\"R2 on training dataset --->\", R2_training )\n",
    "\n",
    "print(\"Adjusted R Squared Value --->\",adj_r2_training)\n",
    "\n",
    "training_accuracy.append(adj_r2_training)"
   ]
  },
  {
   "cell_type": "markdown",
   "id": "ada0b87b",
   "metadata": {},
   "source": [
    "#### Testing dataset"
   ]
  },
  {
   "cell_type": "code",
   "execution_count": 50,
   "id": "9bdeab2e",
   "metadata": {},
   "outputs": [],
   "source": [
    "y_pred_test = model.predict(x_test)"
   ]
  },
  {
   "cell_type": "code",
   "execution_count": 51,
   "id": "ba26c7a0",
   "metadata": {},
   "outputs": [
    {
     "data": {
      "text/plain": [
       "1313    8065.611494\n",
       "1254    -999.716981\n",
       "372    -3193.038199\n",
       "937      302.303349\n",
       "484    -2890.382827\n",
       "           ...     \n",
       "427     4738.767861\n",
       "1153   -3765.140132\n",
       "973    -3875.075556\n",
       "608     -762.132128\n",
       "775    -2501.159677\n",
       "Name: charges, Length: 268, dtype: float64"
      ]
     },
     "execution_count": 51,
     "metadata": {},
     "output_type": "execute_result"
    }
   ],
   "source": [
    "residual = y_test - y_pred_test \n",
    "residual"
   ]
  },
  {
   "cell_type": "code",
   "execution_count": 52,
   "id": "4b496767",
   "metadata": {},
   "outputs": [
    {
     "data": {
      "text/plain": [
       "<AxesSubplot:xlabel='charges', ylabel='Density'>"
      ]
     },
     "execution_count": 52,
     "metadata": {},
     "output_type": "execute_result"
    },
    {
     "data": {
      "image/png": "[encoded data removed]",
      "text/plain": [
       "<Figure size 640x480 with 1 Axes>"
      ]
     },
     "metadata": {},
     "output_type": "display_data"
    }
   ],
   "source": [
    "sns.kdeplot(residual)           # plot test_resudual"
   ]
  },
  {
   "cell_type": "code",
   "execution_count": 53,
   "id": "d41ec4f6",
   "metadata": {},
   "outputs": [
    {
     "name": "stdout",
     "output_type": "stream",
     "text": [
      "MSE on training dataset ---> 27523934.772230797\n",
      "RMSE on training dataset ---> 5246.3258354996215\n",
      "MAE on training dataset ---> 3780.5153606917615\n",
      "R2 on training dataset ---> 0.8015189494712379\n",
      "Adjusted R Squared Value : 0.7945951918946532\n"
     ]
    }
   ],
   "source": [
    "MSE = mean_squared_error(y_test , y_pred_test)\n",
    "\n",
    "RMSE = np.sqrt(MSE)\n",
    "\n",
    "MAE = mean_absolute_error(y_test ,y_pred_test)\n",
    "\n",
    "R2_testing = model.score(x_test, y_test)\n",
    "\n",
    "adj_r2_testing  = 1 - (((1 - R2_testing) * (x_test.shape[0] - 1)) / (x_test.shape[0] - x_test.shape[1] - 1))\n",
    "\n",
    "\n",
    "print(\"MSE on training dataset --->\", MSE)\n",
    "\n",
    "print(\"RMSE on training dataset --->\",RMSE)\n",
    "\n",
    "print(\"MAE on training dataset --->\", MAE)\n",
    "\n",
    "print(\"R2 on training dataset --->\", R2_testing)\n",
    "\n",
    "print(\"Adjusted R Squared Value :\",adj_r2_testing)\n",
    "\n",
    "testing_accuracy.append(adj_r2_testing)"
   ]
  },
  {
   "cell_type": "markdown",
   "id": "eefd1f71",
   "metadata": {},
   "source": [
    "## Normality of residual"
   ]
  },
  {
   "cell_type": "markdown",
   "id": "cccbda98",
   "metadata": {},
   "source": [
    "#### Hypothesis testing"
   ]
  },
  {
   "cell_type": "code",
   "execution_count": 54,
   "id": "34394484",
   "metadata": {},
   "outputs": [],
   "source": [
    "from scipy.stats import shapiro"
   ]
  },
  {
   "cell_type": "markdown",
   "id": "46c097dd",
   "metadata": {},
   "source": [
    "#### shapiro test"
   ]
  },
  {
   "cell_type": "code",
   "execution_count": 55,
   "id": "a4a56c9f",
   "metadata": {},
   "outputs": [
    {
     "name": "stdout",
     "output_type": "stream",
     "text": [
      "P_Value: 1.1158757945439746e-10\n",
      "Null Hypothesis is Rejected and Alternate Hypothesis is Accepted\n",
      "Data is not Normally Distributed\n"
     ]
    }
   ],
   "source": [
    "_ , p_val = shapiro(residual)\n",
    "print(\"P_Value:\",p_val)\n",
    "if p_val >= 0.05:\n",
    "    print(\"Null Hypothesis is Accepted\")\n",
    "    print(\"Data is Normally Distributed\")\n",
    "else:\n",
    "    print(\"Null Hypothesis is Rejected and Alternate Hypothesis is Accepted\")\n",
    "    print(\"Data is not Normally Distributed\")"
   ]
  },
  {
   "cell_type": "markdown",
   "id": "c6c705dc",
   "metadata": {},
   "source": [
    "#### QQ plot"
   ]
  },
  {
   "cell_type": "code",
   "execution_count": 56,
   "id": "1ae9a89d",
   "metadata": {},
   "outputs": [],
   "source": [
    "import statsmodels.api as sm"
   ]
  },
  {
   "cell_type": "code",
   "execution_count": 57,
   "id": "5df460b2",
   "metadata": {},
   "outputs": [
    {
     "data": {
      "image/png": "[encoded data removed]",
      "text/plain": [
       "<Figure size 640x480 with 1 Axes>"
      ]
     },
     "execution_count": 57,
     "metadata": {},
     "output_type": "execute_result"
    },
    {
     "data": {
      "image/png": "[encoded data removed]",
      "text/plain": [
       "<Figure size 640x480 with 1 Axes>"
      ]
     },
     "metadata": {},
     "output_type": "display_data"
    }
   ],
   "source": [
    "sm.qqplot(residual, line = \"45\", fit = True)             # data is not normaly distrubuted"
   ]
  },
  {
   "cell_type": "markdown",
   "id": "b67a01bb",
   "metadata": {},
   "source": [
    "#### homoscedasticity"
   ]
  },
  {
   "cell_type": "code",
   "execution_count": 58,
   "id": "351dc3a8",
   "metadata": {},
   "outputs": [
    {
     "data": {
      "text/plain": [
       "<AxesSubplot:>"
      ]
     },
     "execution_count": 58,
     "metadata": {},
     "output_type": "execute_result"
    },
    {
     "data": {
      "image/png": "[encoded data removed]",
      "text/plain": [
       "<Figure size 640x480 with 1 Axes>"
      ]
     },
     "metadata": {},
     "output_type": "display_data"
    }
   ],
   "source": [
    "sns.scatterplot(x = y_train , y = residual)"
   ]
  },
  {
   "cell_type": "markdown",
   "id": "8852129f",
   "metadata": {},
   "source": [
    "### Regularization"
   ]
  },
  {
   "cell_type": "markdown",
   "id": "57f559a8",
   "metadata": {},
   "source": [
    "### reduce overfitting"
   ]
  },
  {
   "cell_type": "markdown",
   "id": "c094d3bc",
   "metadata": {},
   "source": [
    "### Ridge regression"
   ]
  },
  {
   "cell_type": "code",
   "execution_count": 59,
   "id": "e1616c55",
   "metadata": {},
   "outputs": [],
   "source": [
    "#by default value of alpha"
   ]
  },
  {
   "cell_type": "code",
   "execution_count": 60,
   "id": "901b31ed",
   "metadata": {},
   "outputs": [],
   "source": [
    "ridge_reg_model = Ridge()  \n",
    "ridge_reg_model.fit(x_train, y_train)\n",
    "model_details.append(\"Ridge_Regression\")"
   ]
  },
  {
   "cell_type": "markdown",
   "id": "c014fc7f",
   "metadata": {},
   "source": [
    "### Training Dataset"
   ]
  },
  {
   "cell_type": "code",
   "execution_count": 61,
   "id": "eb28072c",
   "metadata": {},
   "outputs": [
    {
     "name": "stdout",
     "output_type": "stream",
     "text": [
      "MSE on training dataset ---> 39096390.26797102\n",
      "RMSE on training dataset ---> 6252.710633634905\n",
      "MAE on training dataset ---> 4312.040316345216\n",
      "R2 on training dataset ---> 0.7367068401797252\n",
      "Adjusted R Squared Value ---> 0.7344713322189871\n"
     ]
    }
   ],
   "source": [
    "y_pred = ridge_reg_model.predict(x_train)\n",
    "\n",
    "MSE = mean_squared_error(y_train , y_pred)\n",
    "\n",
    "RMSE = np.sqrt(MSE)\n",
    "\n",
    "MAE = mean_absolute_error(y_train , y_pred)\n",
    "\n",
    "R2_training = ridge_reg_model.score(x_train, y_train)\n",
    "\n",
    "adj_r2_training = 1 - (((1 - R2_training) * (x_train.shape[0] - 1)) / (x_train.shape[0] - x_train.shape[1] - 1))\n",
    "\n",
    "print(\"MSE on training dataset --->\", MSE)\n",
    "\n",
    "print(\"RMSE on training dataset --->\",RMSE)\n",
    "\n",
    "print(\"MAE on training dataset --->\", MAE)\n",
    "\n",
    "print(\"R2 on training dataset --->\", R2_training )\n",
    "\n",
    "print(\"Adjusted R Squared Value --->\",adj_r2_training)\n",
    "\n",
    "training_accuracy.append(adj_r2_training)"
   ]
  },
  {
   "cell_type": "markdown",
   "id": "4440c04b",
   "metadata": {},
   "source": [
    "### Testing Dataset"
   ]
  },
  {
   "cell_type": "code",
   "execution_count": 62,
   "id": "1f1693d8",
   "metadata": {},
   "outputs": [
    {
     "name": "stdout",
     "output_type": "stream",
     "text": [
      "MSE on training dataset ---> 27586112.04577606\n",
      "RMSE on training dataset ---> 5252.248284856311\n",
      "MAE on training dataset ---> 3794.5278587129806\n",
      "R2 on training dataset ---> 0.8010705756949444\n",
      "Adjusted R Squared Value ---> 0.7941311771726751\n"
     ]
    }
   ],
   "source": [
    "y_pred = ridge_reg_model.predict(x_test)\n",
    "\n",
    "MSE = mean_squared_error(y_test , y_pred)\n",
    "\n",
    "RMSE = np.sqrt(MSE)\n",
    "\n",
    "MAE = mean_absolute_error(y_test, y_pred)\n",
    "\n",
    "r2_score = ridge_reg_model.score(x_test , y_test)\n",
    "\n",
    "adj_r2 = 1 - (((1 - r2_score ) * (x_test.shape[0] - 1)) / (x_test.shape[0] - x_test.shape[1] - 1))\n",
    "\n",
    "print(\"MSE on training dataset --->\", MSE)\n",
    "\n",
    "print(\"RMSE on training dataset --->\",RMSE)\n",
    "\n",
    "print(\"MAE on training dataset --->\", MAE)\n",
    "\n",
    "print(\"R2 on training dataset --->\", r2_score )\n",
    "\n",
    "print(\"Adjusted R Squared Value --->\",adj_r2)\n",
    "\n",
    "testing_accuracy.append(adj_r2)"
   ]
  },
  {
   "cell_type": "markdown",
   "id": "475ce973",
   "metadata": {},
   "source": [
    "## lasso regression"
   ]
  },
  {
   "cell_type": "code",
   "execution_count": 63,
   "id": "228d5353",
   "metadata": {},
   "outputs": [],
   "source": [
    "lasso_reg_model = Lasso()  \n",
    "lasso_reg_model.fit(x_train, y_train)\n",
    "model_details.append(\"Lasso_Regression\")"
   ]
  },
  {
   "cell_type": "markdown",
   "id": "dee75cb5",
   "metadata": {},
   "source": [
    "### Training Dataset"
   ]
  },
  {
   "cell_type": "code",
   "execution_count": 64,
   "id": "02814e3f",
   "metadata": {},
   "outputs": [
    {
     "name": "stdout",
     "output_type": "stream",
     "text": [
      "MSE on training dataset ---> 39093445.74365094\n",
      "RMSE on training dataset ---> 6252.475169375\n",
      "MAE on training dataset ---> 4303.252894216326\n",
      "R2 on training dataset ---> 0.7367266699672601\n",
      "Adjusted R Squared Value ---> 0.7344913303726426\n"
     ]
    }
   ],
   "source": [
    "y_pred = lasso_reg_model.predict(x_train)\n",
    "\n",
    "MSE = mean_squared_error(y_train , y_pred)\n",
    "\n",
    "RMSE = np.sqrt(MSE)\n",
    "\n",
    "MAE = mean_absolute_error(y_train , y_pred)\n",
    "\n",
    "r2_score = lasso_reg_model.score(x_train,y_train)\n",
    "\n",
    "adj_r2 = 1 - (((1 - r2_score ) * (x_train.shape[0] - 1)) / (x_train.shape[0] - x_train.shape[1] - 1))\n",
    "\n",
    "print(\"MSE on training dataset --->\", MSE)\n",
    "\n",
    "print(\"RMSE on training dataset --->\",RMSE)\n",
    "\n",
    "print(\"MAE on training dataset --->\", MAE)\n",
    "\n",
    "print(\"R2 on training dataset --->\", r2_score )\n",
    "\n",
    "print(\"Adjusted R Squared Value --->\",adj_r2)\n",
    "\n",
    "training_accuracy.append(adj_r2)"
   ]
  },
  {
   "cell_type": "markdown",
   "id": "ff471094",
   "metadata": {},
   "source": [
    "### Testing Dataset"
   ]
  },
  {
   "cell_type": "code",
   "execution_count": 65,
   "id": "5c6c990c",
   "metadata": {},
   "outputs": [
    {
     "name": "stdout",
     "output_type": "stream",
     "text": [
      "MSE on training dataset ---> 27523501.559791684\n",
      "RMSE on training dataset ---> 5246.284548115141\n",
      "MAE on training dataset ---> 3780.603529350994\n",
      "R2 on training dataset ---> 0.8015220734598946\n",
      "Adjusted R Squared Value ---> 0.7945984248596584\n"
     ]
    }
   ],
   "source": [
    "y_pred = lasso_reg_model.predict(x_test)\n",
    "\n",
    "MSE = mean_squared_error(y_test , y_pred)\n",
    "\n",
    "RMSE = np.sqrt(MSE)\n",
    "\n",
    "MAE = mean_absolute_error(y_test, y_pred)\n",
    "\n",
    "r2_score = lasso_reg_model.score(x_test, y_test)\n",
    "\n",
    "adj_r2 = 1 - (((1 - r2_score ) * (x_test.shape[0] - 1)) / (x_test.shape[0] - x_test.shape[1] - 1))\n",
    "\n",
    "print(\"MSE on training dataset --->\", MSE)\n",
    "\n",
    "print(\"RMSE on training dataset --->\",RMSE)\n",
    "\n",
    "print(\"MAE on training dataset --->\", MAE)\n",
    "\n",
    "print(\"R2 on training dataset --->\", r2_score )\n",
    "\n",
    "print(\"Adjusted R Squared Value --->\",adj_r2)\n",
    "\n",
    "testing_accuracy.append(adj_r2)"
   ]
  },
  {
   "cell_type": "markdown",
   "id": "631627a2",
   "metadata": {},
   "source": [
    "## Hyperparameter Tunning"
   ]
  },
  {
   "cell_type": "markdown",
   "id": "8dc3388a",
   "metadata": {},
   "source": [
    "### GridSearch cv"
   ]
  },
  {
   "cell_type": "code",
   "execution_count": 66,
   "id": "69a76e1f",
   "metadata": {
    "scrolled": true
   },
   "outputs": [],
   "source": [
    "ridge_model  = Ridge()\n",
    "\n",
    "param_grid={\"alpha\":np.arange(0.01,3,0.01)}\n",
    "\n",
    "g_s_cv_ridge_model=GridSearchCV(ridge_model,param_grid,n_jobs=-1)\n",
    "\n",
    "g_s_cv_ridge_model.fit(x_train,y_train)\n",
    "\n",
    "model_details.append(\"Ridge_with_gridsearch_cv\")"
   ]
  },
  {
   "cell_type": "code",
   "execution_count": 67,
   "id": "bee53975",
   "metadata": {},
   "outputs": [
    {
     "data": {
      "text/plain": [
       "Ridge(alpha=0.99)"
      ]
     },
     "execution_count": 67,
     "metadata": {},
     "output_type": "execute_result"
    }
   ],
   "source": [
    "g_s_cv_ridge_model.best_estimator_"
   ]
  },
  {
   "cell_type": "markdown",
   "id": "8aaa344c",
   "metadata": {},
   "source": [
    "### Training Dataset"
   ]
  },
  {
   "cell_type": "markdown",
   "id": "7e6e6281",
   "metadata": {},
   "source": [
    "#### gridsearch cv"
   ]
  },
  {
   "cell_type": "markdown",
   "id": "58f1f6ad",
   "metadata": {},
   "source": [
    "#### ridge regression"
   ]
  },
  {
   "cell_type": "code",
   "execution_count": 68,
   "id": "d08fee20",
   "metadata": {},
   "outputs": [
    {
     "name": "stdout",
     "output_type": "stream",
     "text": [
      "MSE on training dataset ---> 27523501.559791684\n",
      "RMSE on training dataset ---> 5246.284548115141\n",
      "MAE on training dataset ---> 3780.603529350994\n",
      "R2 on training dataset ---> 0.7367072363973024\n",
      "Adjusted R Squared Value ---> 0.7344717318006757\n"
     ]
    }
   ],
   "source": [
    "y_pred = g_s_cv_ridge_model.predict(x_train)\n",
    "\n",
    "mse = mean_squared_error(y_train, y_pred)\n",
    "\n",
    "rmse = np.sqrt(mse)\n",
    "\n",
    "mae = mean_absolute_error(y_train,y_pred)\n",
    "\n",
    "r2_score = g_s_cv_ridge_model.score(x_train,y_train)\n",
    "\n",
    "adj_r2 = 1 - (((1 - r2_score ) * (x_train.shape[0] - 1)) / (x_train.shape[0] - x_train.shape[1] - 1))\n",
    "\n",
    "print(\"MSE on training dataset --->\", MSE)\n",
    "\n",
    "print(\"RMSE on training dataset --->\",RMSE)\n",
    "\n",
    "print(\"MAE on training dataset --->\", MAE)\n",
    "\n",
    "print(\"R2 on training dataset --->\", r2_score )\n",
    "\n",
    "print(\"Adjusted R Squared Value --->\",adj_r2)\n",
    "\n",
    "training_accuracy.append(adj_r2)"
   ]
  },
  {
   "cell_type": "markdown",
   "id": "8314440f",
   "metadata": {},
   "source": [
    "### Testing Dataset"
   ]
  },
  {
   "cell_type": "code",
   "execution_count": 69,
   "id": "f02d2d5c",
   "metadata": {},
   "outputs": [
    {
     "name": "stdout",
     "output_type": "stream",
     "text": [
      "MSE on training dataset ---> 27523501.559791684\n",
      "RMSE on training dataset ---> 5246.284548115141\n",
      "MAE on training dataset ---> 3780.603529350994\n",
      "R2 on training dataset ---> 0.8010752375059454\n",
      "Adjusted R Squared Value ---> 0.7941360016049901\n"
     ]
    }
   ],
   "source": [
    "y_pred = g_s_cv_ridge_model.predict(x_test)\n",
    "\n",
    "mse = mean_squared_error(y_test, y_pred)\n",
    "\n",
    "rmse = np.sqrt(mse)\n",
    "\n",
    "mae = mean_absolute_error(y_test,y_pred)\n",
    "\n",
    "r2_score = g_s_cv_ridge_model.score(x_test ,y_test)\n",
    "\n",
    "adj_r2 = 1 - (((1 - r2_score ) * (x_test.shape[0] - 1)) / (x_test.shape[0] - x_test.shape[1] - 1))\n",
    "\n",
    "print(\"MSE on training dataset --->\", MSE)\n",
    "\n",
    "print(\"RMSE on training dataset --->\",RMSE)\n",
    "\n",
    "print(\"MAE on training dataset --->\", MAE)\n",
    "\n",
    "print(\"R2 on training dataset --->\", r2_score )\n",
    "\n",
    "print(\"Adjusted R Squared Value --->\",adj_r2)\n",
    "\n",
    "testing_accuracy.append(adj_r2)"
   ]
  },
  {
   "cell_type": "markdown",
   "id": "19469586",
   "metadata": {},
   "source": [
    "#### lasso regression"
   ]
  },
  {
   "cell_type": "code",
   "execution_count": 70,
   "id": "45dad8e1",
   "metadata": {},
   "outputs": [],
   "source": [
    "lasso_model = Lasso()\n",
    "\n",
    "param_grid = {\"alpha\": np.arange(0.01,3,0.01)}\n",
    "\n",
    "lasso_model_gs_cv = GridSearchCV(lasso_model, param_grid, n_jobs=-1)\n",
    "\n",
    "lasso_model_gs_cv.fit(x_train, y_train)\n",
    "\n",
    "model_details.append(\"Ridge_with_gridsearch_cv\")"
   ]
  },
  {
   "cell_type": "code",
   "execution_count": 71,
   "id": "3d1a4347",
   "metadata": {},
   "outputs": [
    {
     "data": {
      "text/plain": [
       "Lasso(alpha=2.9899999999999998)"
      ]
     },
     "execution_count": 71,
     "metadata": {},
     "output_type": "execute_result"
    }
   ],
   "source": [
    "lasso_model_gs_cv.best_estimator_"
   ]
  },
  {
   "cell_type": "markdown",
   "id": "c3b78cd1",
   "metadata": {},
   "source": [
    "### Training Dataset"
   ]
  },
  {
   "cell_type": "code",
   "execution_count": 72,
   "id": "c6c89ead",
   "metadata": {},
   "outputs": [
    {
     "name": "stdout",
     "output_type": "stream",
     "text": [
      "MSE on training dataset ---> 27523501.559791684\n",
      "RMSE on training dataset ---> 5246.284548115141\n",
      "MAE on training dataset ---> 3780.603529350994\n",
      "R2 on training dataset ---> 0.7367251068585807\n",
      "Adjusted R Squared Value ---> 0.7344897539922857\n"
     ]
    }
   ],
   "source": [
    "y_pred = lasso_model_gs_cv.predict(x_train)\n",
    "\n",
    "mse = mean_squared_error(y_train, y_pred)\n",
    "\n",
    "rmse = np.sqrt(mse)\n",
    "\n",
    "mae = mean_absolute_error(y_train,y_pred)\n",
    "\n",
    "r2_score = lasso_model_gs_cv.score(x_train,y_train)\n",
    "\n",
    "adj_r2 = 1 - (((1 - r2_score ) * (x_train.shape[0] - 1)) / (x_train.shape[0] - x_train.shape[1] - 1))\n",
    "\n",
    "print(\"MSE on training dataset --->\", MSE)\n",
    "\n",
    "print(\"RMSE on training dataset --->\",RMSE)\n",
    "\n",
    "print(\"MAE on training dataset --->\", MAE)\n",
    "\n",
    "print(\"R2 on training dataset --->\", r2_score )\n",
    "\n",
    "print(\"Adjusted R Squared Value --->\",adj_r2)\n",
    "\n",
    "training_accuracy.append(adj_r2)"
   ]
  },
  {
   "cell_type": "markdown",
   "id": "b4107542",
   "metadata": {},
   "source": [
    "### Testing Dataset"
   ]
  },
  {
   "cell_type": "code",
   "execution_count": 73,
   "id": "d9872503",
   "metadata": {},
   "outputs": [
    {
     "name": "stdout",
     "output_type": "stream",
     "text": [
      "MSE on training dataset ---> 27523501.559791684\n",
      "RMSE on training dataset ---> 5246.284548115141\n",
      "MAE on training dataset ---> 3780.603529350994\n",
      "R2 on training dataset ---> 0.8015269008644292\n",
      "Adjusted R Squared Value ---> 0.7946034206620256\n"
     ]
    }
   ],
   "source": [
    "y_pred = lasso_model_gs_cv.predict(x_test)\n",
    "\n",
    "mse = mean_squared_error(y_test, y_pred)\n",
    "\n",
    "rmse = np.sqrt(mse)\n",
    "\n",
    "mae = mean_absolute_error(y_test,y_pred)\n",
    "\n",
    "r2_score = lasso_model_gs_cv.score(x_test,y_test)\n",
    "\n",
    "adj_r2 = 1 - (((1 - r2_score ) * (x_test.shape[0] - 1)) / (x_test.shape[0] - x_test.shape[1] - 1))\n",
    "\n",
    "print(\"MSE on training dataset --->\", MSE)\n",
    "\n",
    "print(\"RMSE on training dataset --->\",RMSE)\n",
    "\n",
    "print(\"MAE on training dataset --->\", MAE)\n",
    "\n",
    "print(\"R2 on training dataset --->\", r2_score )\n",
    "\n",
    "print(\"Adjusted R Squared Value --->\",adj_r2)\n",
    "\n",
    "testing_accuracy.append(adj_r2)"
   ]
  },
  {
   "cell_type": "markdown",
   "id": "fb036edb",
   "metadata": {},
   "source": [
    "### randimized search cv"
   ]
  },
  {
   "cell_type": "markdown",
   "id": "becf92c8",
   "metadata": {},
   "source": [
    "#### ridge regression"
   ]
  },
  {
   "cell_type": "code",
   "execution_count": 74,
   "id": "99dcb8d2",
   "metadata": {},
   "outputs": [],
   "source": [
    "ridge_model = Ridge()\n",
    "\n",
    "param_grid = {\"alpha\": np.arange(0.01,3,0.01)}\n",
    "\n",
    "ridge_model_rscv = RandomizedSearchCV(ridge_model, param_grid, n_jobs=-1)\n",
    "\n",
    "ridge_model_rscv .fit(x_train, y_train)\n",
    "\n",
    "model_details.append(\"Ridge_with_randomizedsearch_cv\")"
   ]
  },
  {
   "cell_type": "code",
   "execution_count": 75,
   "id": "2e396aee",
   "metadata": {},
   "outputs": [
    {
     "data": {
      "text/plain": [
       "Ridge(alpha=0.99)"
      ]
     },
     "execution_count": 75,
     "metadata": {},
     "output_type": "execute_result"
    }
   ],
   "source": [
    "ridge_model_rscv.best_estimator_ "
   ]
  },
  {
   "cell_type": "markdown",
   "id": "8e4a5136",
   "metadata": {},
   "source": [
    "### Training Dataset"
   ]
  },
  {
   "cell_type": "code",
   "execution_count": 76,
   "id": "dfc964de",
   "metadata": {},
   "outputs": [
    {
     "name": "stdout",
     "output_type": "stream",
     "text": [
      "MSE on training dataset ---> 27523501.559791684\n",
      "RMSE on training dataset ---> 5246.284548115141\n",
      "MAE on training dataset ---> 3780.603529350994\n",
      "R2 on training dataset ---> 0.7367072363973024\n",
      "Adjusted R Squared Value ---> 0.7344717318006757\n"
     ]
    }
   ],
   "source": [
    "y_pred = ridge_model_rscv.predict(x_train)\n",
    "\n",
    "mse = mean_squared_error(y_train, y_pred)\n",
    "\n",
    "rmse = np.sqrt(mse)\n",
    "\n",
    "mae = mean_absolute_error(y_train,y_pred)\n",
    "\n",
    "r2_score = ridge_model_rscv.score(x_train,y_train)\n",
    "\n",
    "adj_r2 = 1 - (((1 - r2_score ) * (x_train.shape[0] - 1)) / (x_train.shape[0] - x_train.shape[1] - 1))\n",
    "\n",
    "print(\"MSE on training dataset --->\", MSE)\n",
    "\n",
    "print(\"RMSE on training dataset --->\",RMSE)\n",
    "\n",
    "print(\"MAE on training dataset --->\", MAE)\n",
    "\n",
    "print(\"R2 on training dataset --->\", r2_score )\n",
    "\n",
    "print(\"Adjusted R Squared Value --->\",adj_r2)\n",
    "\n",
    "training_accuracy.append(adj_r2)"
   ]
  },
  {
   "cell_type": "markdown",
   "id": "68a273a5",
   "metadata": {},
   "source": [
    "### Testing Dataset"
   ]
  },
  {
   "cell_type": "code",
   "execution_count": 77,
   "id": "287f0a21",
   "metadata": {},
   "outputs": [
    {
     "name": "stdout",
     "output_type": "stream",
     "text": [
      "MSE on training dataset ---> 27523501.559791684\n",
      "RMSE on training dataset ---> 5246.284548115141\n",
      "MAE on training dataset ---> 3780.603529350994\n",
      "R2 on training dataset ---> 0.8010752375059454\n",
      "Adjusted R Squared Value ---> 0.7941360016049901\n"
     ]
    }
   ],
   "source": [
    "y_pred = ridge_model_rscv.predict(x_test)\n",
    "\n",
    "mse = mean_squared_error(y_test, y_pred)\n",
    "\n",
    "rmse = np.sqrt(mse)\n",
    "\n",
    "mae = mean_absolute_error(y_test,y_pred)\n",
    "\n",
    "r2_score = ridge_model_rscv.score(x_test ,y_test)\n",
    "\n",
    "adj_r2 = 1 - (((1 - r2_score ) * (x_test.shape[0] - 1)) / (x_test.shape[0] - x_test.shape[1] - 1))\n",
    "\n",
    "print(\"MSE on training dataset --->\", MSE)\n",
    "\n",
    "print(\"RMSE on training dataset --->\",RMSE)\n",
    "\n",
    "print(\"MAE on training dataset --->\", MAE)\n",
    "\n",
    "print(\"R2 on training dataset --->\", r2_score )\n",
    "\n",
    "print(\"Adjusted R Squared Value --->\",adj_r2)\n",
    "\n",
    "testing_accuracy.append(adj_r2)"
   ]
  },
  {
   "cell_type": "markdown",
   "id": "4709a8fd",
   "metadata": {},
   "source": [
    "### lasso regression"
   ]
  },
  {
   "cell_type": "code",
   "execution_count": 78,
   "id": "9aff1cdf",
   "metadata": {},
   "outputs": [],
   "source": [
    "lasso_model = Lasso()\n",
    "\n",
    "param_grid = {\"alpha\": np.arange(0.01,3,0.01)}\n",
    "\n",
    "lasso_model_rscv = RandomizedSearchCV(lasso_model, param_grid, n_jobs=-1)\n",
    "\n",
    "lasso_model_rscv.fit(x_train, y_train)\n",
    "\n",
    "model_details.append(\"Lasso_with_randomizedsearch_cv\")"
   ]
  },
  {
   "cell_type": "code",
   "execution_count": 79,
   "id": "7b2ae446",
   "metadata": {},
   "outputs": [
    {
     "data": {
      "text/plain": [
       "Lasso(alpha=2.86)"
      ]
     },
     "execution_count": 79,
     "metadata": {},
     "output_type": "execute_result"
    }
   ],
   "source": [
    "lasso_model_rscv.best_estimator_"
   ]
  },
  {
   "cell_type": "markdown",
   "id": "af4495a2",
   "metadata": {},
   "source": [
    "### Training Dataset"
   ]
  },
  {
   "cell_type": "code",
   "execution_count": 80,
   "id": "277587d2",
   "metadata": {},
   "outputs": [
    {
     "name": "stdout",
     "output_type": "stream",
     "text": [
      "MSE on training dataset ---> 27523501.559791684\n",
      "RMSE on training dataset ---> 5246.284548115141\n",
      "MAE on training dataset ---> 3780.603529350994\n",
      "R2 on training dataset ---> 0.736725256370852\n",
      "Adjusted R Squared Value ---> 0.7344899047740008\n"
     ]
    }
   ],
   "source": [
    "y_pred = lasso_model_rscv.predict(x_train)\n",
    "\n",
    "mse = mean_squared_error(y_train, y_pred)\n",
    "\n",
    "rmse = np.sqrt(mse)\n",
    "\n",
    "mae = mean_absolute_error(y_train,y_pred)\n",
    "\n",
    "r2_score = lasso_model_rscv.score(x_train ,y_train)\n",
    "\n",
    "adj_r2 = 1 - (((1 - r2_score ) * (x_train.shape[0] - 1)) / (x_train.shape[0] - x_train.shape[1] - 1))\n",
    "\n",
    "print(\"MSE on training dataset --->\", MSE)\n",
    "\n",
    "print(\"RMSE on training dataset --->\",RMSE)\n",
    "\n",
    "print(\"MAE on training dataset --->\", MAE)\n",
    "\n",
    "print(\"R2 on training dataset --->\", r2_score )\n",
    "\n",
    "print(\"Adjusted R Squared Value --->\",adj_r2)\n",
    "\n",
    "training_accuracy.append(adj_r2)"
   ]
  },
  {
   "cell_type": "markdown",
   "id": "070e00ca",
   "metadata": {},
   "source": [
    "### Testing Dataset"
   ]
  },
  {
   "cell_type": "code",
   "execution_count": 81,
   "id": "6846bba3",
   "metadata": {},
   "outputs": [
    {
     "name": "stdout",
     "output_type": "stream",
     "text": [
      "MSE on training dataset ---> 27523501.559791684\n",
      "RMSE on training dataset ---> 5246.284548115141\n",
      "MAE on training dataset ---> 3780.603529350994\n",
      "R2 on training dataset ---> 0.801526629062923\n",
      "Adjusted R Squared Value ---> 0.7946031393790716\n"
     ]
    }
   ],
   "source": [
    "y_pred = lasso_model_rscv.predict(x_test)\n",
    "\n",
    "mse = mean_squared_error(y_test, y_pred)\n",
    "\n",
    "rmse = np.sqrt(mse)\n",
    "\n",
    "mae = mean_absolute_error(y_test,y_pred)\n",
    "\n",
    "r2_score = lasso_model_rscv.score(x_test,y_test)\n",
    "\n",
    "adj_r2 = 1 - (((1 - r2_score ) * (x_test.shape[0] - 1)) / (x_test.shape[0] - x_test.shape[1] - 1))\n",
    "\n",
    "print(\"MSE on training dataset --->\", MSE)\n",
    "\n",
    "print(\"RMSE on training dataset --->\",RMSE)\n",
    "\n",
    "print(\"MAE on training dataset --->\", MAE)\n",
    "\n",
    "print(\"R2 on training dataset --->\", r2_score )\n",
    "\n",
    "print(\"Adjusted R Squared Value --->\",adj_r2)\n",
    "\n",
    "testing_accuracy.append(adj_r2)"
   ]
  },
  {
   "cell_type": "code",
   "execution_count": 82,
   "id": "46e54bc0",
   "metadata": {},
   "outputs": [],
   "source": [
    "knn_model = KNeighborsRegressor()\n",
    "knn_model.fit(x_train,y_train)\n",
    "\n",
    "model_details.append(\"KNeighborsRegressor\")"
   ]
  },
  {
   "cell_type": "code",
   "execution_count": 83,
   "id": "b29cbec7",
   "metadata": {},
   "outputs": [
    {
     "name": "stdout",
     "output_type": "stream",
     "text": [
      "MSE on training dataset ---> 27523501.559791684\n",
      "RMSE on training dataset ---> 5246.284548115141\n",
      "MAE on training dataset ---> 3780.603529350994\n",
      "R2 on training dataset ---> 0.46177413207360274\n",
      "Adjusted R Squared Value ---> 0.45720428979875605\n"
     ]
    }
   ],
   "source": [
    "y_pred = knn_model.predict(x_train)\n",
    "\n",
    "mse = mean_squared_error(y_train, y_pred)\n",
    "\n",
    "rmse = np.sqrt(mse)\n",
    "\n",
    "mae = mean_absolute_error(y_train,y_pred)\n",
    "\n",
    "r2_score = knn_model.score(x_train,y_train)\n",
    "\n",
    "adj_r2 = 1 - (((1 - r2_score ) * (x_train.shape[0] - 1)) / (x_train.shape[0] - x_train.shape[1] - 1))\n",
    "\n",
    "print(\"MSE on training dataset --->\", MSE)\n",
    "\n",
    "print(\"RMSE on training dataset --->\",RMSE)\n",
    "\n",
    "print(\"MAE on training dataset --->\", MAE)\n",
    "\n",
    "print(\"R2 on training dataset --->\", r2_score )\n",
    "\n",
    "print(\"Adjusted R Squared Value --->\",adj_r2)\n",
    "\n",
    "training_accuracy.append(adj_r2)"
   ]
  },
  {
   "cell_type": "code",
   "execution_count": 84,
   "id": "cba75143",
   "metadata": {},
   "outputs": [
    {
     "name": "stdout",
     "output_type": "stream",
     "text": [
      "MSE on training dataset ---> 27523501.559791684\n",
      "RMSE on training dataset ---> 5246.284548115141\n",
      "MAE on training dataset ---> 3780.603529350994\n",
      "R2 on training dataset ---> 0.10093958749686693\n",
      "Adjusted R Squared Value ---> 0.06957701496768787\n"
     ]
    }
   ],
   "source": [
    "y_pred = knn_model.predict(x_test)\n",
    "\n",
    "mse = mean_squared_error(y_test, y_pred)\n",
    "\n",
    "rmse = np.sqrt(mse)\n",
    "\n",
    "mae = mean_absolute_error(y_test,y_pred)\n",
    "\n",
    "r2_score = knn_model.score(x_test,y_test)\n",
    "\n",
    "adj_r2 = 1 - (((1 - r2_score ) * (x_test.shape[0] - 1)) / (x_test.shape[0] - x_test.shape[1] - 1))\n",
    "\n",
    "print(\"MSE on training dataset --->\", MSE)\n",
    "\n",
    "print(\"RMSE on training dataset --->\",RMSE)\n",
    "\n",
    "print(\"MAE on training dataset --->\", MAE)\n",
    "\n",
    "print(\"R2 on training dataset --->\", r2_score )\n",
    "\n",
    "print(\"Adjusted R Squared Value --->\",adj_r2)\n",
    "\n",
    "testing_accuracy.append(adj_r2)"
   ]
  },
  {
   "cell_type": "code",
   "execution_count": 85,
   "id": "22110fcd",
   "metadata": {},
   "outputs": [],
   "source": [
    "dt_model = DecisionTreeRegressor()\n",
    "dt_model.fit(x_train,y_train)\n",
    "model_details.append(\"Decisontree_model\")"
   ]
  },
  {
   "cell_type": "code",
   "execution_count": 86,
   "id": "0b9a9c0b",
   "metadata": {},
   "outputs": [
    {
     "name": "stdout",
     "output_type": "stream",
     "text": [
      "MSE on training dataset ---> 171211.3229664544\n",
      "RMSE on training dataset ---> 413.77689999135333\n",
      "MAE on training dataset ---> 17.889135373831778\n",
      "R2 on training dataset ---> 0.9988469838286381\n",
      "Adjusted R Squared Value ---> 0.9988371940686926\n"
     ]
    }
   ],
   "source": [
    "y_pred = dt_model.predict(x_train)\n",
    "\n",
    "MSE = mean_squared_error(y_train,y_pred)\n",
    "\n",
    "RMSE = np.sqrt(MSE)\n",
    "\n",
    "MAE = mean_absolute_error(y_train , y_pred)\n",
    "\n",
    "r2_score = dt_model.score(x_train, y_train)\n",
    "\n",
    "adj_r2 = 1 - (((1 - r2_score ) * (x_train.shape[0] - 1)) / (x_train.shape[0] - x_train.shape[1] - 1))\n",
    "\n",
    "print(\"MSE on training dataset --->\", MSE)\n",
    "\n",
    "print(\"RMSE on training dataset --->\",RMSE)\n",
    "\n",
    "print(\"MAE on training dataset --->\", MAE)\n",
    "\n",
    "print(\"R2 on training dataset --->\", r2_score )\n",
    "\n",
    "print(\"Adjusted R Squared Value --->\",adj_r2)\n",
    "\n",
    "training_accuracy.append(adj_r2)"
   ]
  },
  {
   "cell_type": "code",
   "execution_count": 87,
   "id": "5aad3940",
   "metadata": {},
   "outputs": [
    {
     "name": "stdout",
     "output_type": "stream",
     "text": [
      "MSE on training dataset ---> 28290234.22579253\n",
      "RMSE on training dataset ---> 5318.856477269576\n",
      "MAE on training dataset ---> 2329.320497794776\n",
      "R2 on training dataset ---> 0.7959929982647265\n",
      "Adjusted R Squared Value ---> 0.7888764749483796\n"
     ]
    }
   ],
   "source": [
    "y_pred = dt_model.predict(x_test)\n",
    "\n",
    "MSE  = mean_squared_error(y_test,y_pred)\n",
    "\n",
    "RMSE = np.sqrt(MSE)\n",
    "\n",
    "MAE = mean_absolute_error(y_test,y_pred)\n",
    "\n",
    "r2_score = dt_model.score(x_test,y_test)\n",
    "\n",
    "adj_r2 = 1 - (((1 - r2_score ) * (x_test.shape[0] - 1)) / (x_test.shape[0] - x_test.shape[1] - 1))\n",
    "\n",
    "print(\"MSE on training dataset --->\", MSE)\n",
    "\n",
    "print(\"RMSE on training dataset --->\",RMSE)\n",
    "\n",
    "print(\"MAE on training dataset --->\", MAE)\n",
    "\n",
    "print(\"R2 on training dataset --->\", r2_score )\n",
    "\n",
    "print(\"Adjusted R Squared Value --->\",adj_r2)\n",
    "\n",
    "testing_accuracy.append(adj_r2)"
   ]
  },
  {
   "cell_type": "code",
   "execution_count": 88,
   "id": "bb10442a",
   "metadata": {},
   "outputs": [
    {
     "data": {
      "text/plain": [
       "GridSearchCV(cv=5, estimator=DecisionTreeRegressor(random_state=14), n_jobs=-1,\n",
       "             param_grid={'criterion': ['squared_error', 'absolute_error'],\n",
       "                         'max_depth': array([3, 4, 5, 6, 7]),\n",
       "                         'min_samples_leaf': array([ 2,  3,  4,  5,  6,  7,  8,  9, 10, 11, 12, 13, 14]),\n",
       "                         'min_samples_split': array([ 2,  3,  4,  5,  6,  7,  8,  9, 10, 11, 12, 13, 14, 15, 16, 17, 18,\n",
       "       19])})"
      ]
     },
     "execution_count": 88,
     "metadata": {},
     "output_type": "execute_result"
    }
   ],
   "source": [
    "model_dt = DecisionTreeRegressor(random_state = 14)\n",
    "\n",
    "hyperparameter = {\"criterion\": ['squared_error',\"absolute_error\"],\n",
    "    \"max_depth\": np.arange(3,8),\n",
    "    \"min_samples_split\": np.arange(2,20),\n",
    "    \"min_samples_leaf\": np.arange(2,15)}\n",
    "                            \n",
    "gscv_dt_model = GridSearchCV(model_dt,hyperparameter,cv = 5,n_jobs=-1)\n",
    "gscv_dt_model.fit(x_train, y_train)"
   ]
  },
  {
   "cell_type": "code",
   "execution_count": 89,
   "id": "2ad29523",
   "metadata": {},
   "outputs": [],
   "source": [
    "gscv_dt_model.best_estimator_\n",
    "model_details.append(\"decision_tree_with_hyperparameter_tuning\")"
   ]
  },
  {
   "cell_type": "code",
   "execution_count": 90,
   "id": "7fe3b7fa",
   "metadata": {},
   "outputs": [
    {
     "name": "stdout",
     "output_type": "stream",
     "text": [
      "MSE on training dataset ---> 18940186.317451224\n",
      "RMSE on training dataset ---> 4352.0324352480675\n",
      "MAE on training dataset ---> 2488.9433268465446\n",
      "R2 on training dataset ---> 0.8724480324417104\n",
      "Adjusted R Squared Value ---> 0.8713650440379136\n"
     ]
    }
   ],
   "source": [
    "y_pred =gscv_dt_model.predict(x_train)\n",
    "\n",
    "MSE = mean_squared_error(y_train,y_pred)\n",
    "\n",
    "RMSE = np.sqrt(MSE)\n",
    "\n",
    "MAE = mean_absolute_error(y_train , y_pred)\n",
    "\n",
    "r2_score = gscv_dt_model.score(x_train, y_train)\n",
    "\n",
    "adj_r2 = 1 - (((1 - r2_score ) * (x_train.shape[0] - 1)) / (x_train.shape[0] - x_train.shape[1] - 1))\n",
    "\n",
    "print(\"MSE on training dataset --->\", MSE)\n",
    "\n",
    "print(\"RMSE on training dataset --->\",RMSE)\n",
    "\n",
    "print(\"MAE on training dataset --->\", MAE)\n",
    "\n",
    "print(\"R2 on training dataset --->\", r2_score )\n",
    "\n",
    "print(\"Adjusted R Squared Value --->\",adj_r2)\n",
    "\n",
    "training_accuracy.append(adj_r2)"
   ]
  },
  {
   "cell_type": "code",
   "execution_count": 91,
   "id": "c6d87d39",
   "metadata": {},
   "outputs": [
    {
     "name": "stdout",
     "output_type": "stream",
     "text": [
      "MSE on training dataset ---> 16871148.184144214\n",
      "RMSE on training dataset ---> 4107.45032643661\n",
      "MAE on training dataset ---> 2514.5821554129457\n",
      "R2 on training dataset ---> 0.8783384990944753\n",
      "Adjusted R Squared Value ---> 0.8740944932489337\n"
     ]
    }
   ],
   "source": [
    "y_pred = gscv_dt_model.predict(x_test)\n",
    "\n",
    "MSE  = mean_squared_error(y_test,y_pred)\n",
    "\n",
    "RMSE = np.sqrt(MSE)\n",
    "\n",
    "MAE = mean_absolute_error(y_test,y_pred)\n",
    "\n",
    "r2_score = gscv_dt_model.score(x_test,y_test)\n",
    "\n",
    "adj_r2 = 1 - (((1 - r2_score ) * (x_test.shape[0] - 1)) / (x_test.shape[0] - x_test.shape[1] - 1))\n",
    "\n",
    "print(\"MSE on training dataset --->\", MSE)\n",
    "\n",
    "print(\"RMSE on training dataset --->\",RMSE)\n",
    "\n",
    "print(\"MAE on training dataset --->\", MAE)\n",
    "\n",
    "print(\"R2 on training dataset --->\", r2_score )\n",
    "\n",
    "print(\"Adjusted R Squared Value --->\",adj_r2)\n",
    "\n",
    "testing_accuracy.append(adj_r2)"
   ]
  },
  {
   "cell_type": "code",
   "execution_count": 92,
   "id": "51160b51",
   "metadata": {},
   "outputs": [],
   "source": [
    "rf_model = RandomForestRegressor(random_state = 41)\n",
    "rf_model.fit(x_train, y_train)\n",
    "model_details.append(\"rf_model\")"
   ]
  },
  {
   "cell_type": "code",
   "execution_count": 93,
   "id": "171d4f87",
   "metadata": {},
   "outputs": [
    {
     "name": "stdout",
     "output_type": "stream",
     "text": [
      "MSE on training dataset ---> 3494127.557729223\n",
      "RMSE on training dataset ---> 1869.2585582870079\n",
      "MAE on training dataset ---> 1056.8338660211462\n",
      "R2 on training dataset ---> 0.9764689302724885\n",
      "Adjusted R Squared Value ---> 0.9762691381710284\n"
     ]
    }
   ],
   "source": [
    "y_pred = rf_model.predict(x_train)\n",
    "\n",
    "MSE = mean_squared_error(y_train,y_pred)\n",
    "\n",
    "RMSE = np.sqrt(MSE)\n",
    "\n",
    "MAE = mean_absolute_error(y_train , y_pred)\n",
    "\n",
    "r2_score = rf_model.score(x_train, y_train)\n",
    "\n",
    "adj_r2 = 1 - (((1 - r2_score ) * (x_train.shape[0] - 1)) / (x_train.shape[0] - x_train.shape[1] - 1))\n",
    "\n",
    "print(\"MSE on training dataset --->\", MSE)\n",
    "\n",
    "print(\"RMSE on training dataset --->\",RMSE)\n",
    "\n",
    "print(\"MAE on training dataset --->\", MAE)\n",
    "\n",
    "print(\"R2 on training dataset --->\", r2_score )\n",
    "\n",
    "print(\"Adjusted R Squared Value --->\",adj_r2)\n",
    "\n",
    "training_accuracy.append(adj_r2)"
   ]
  },
  {
   "cell_type": "code",
   "execution_count": 94,
   "id": "95713d00",
   "metadata": {},
   "outputs": [
    {
     "name": "stdout",
     "output_type": "stream",
     "text": [
      "MSE on training dataset ---> 18920016.6511429\n",
      "RMSE on training dataset ---> 4349.714548236803\n",
      "MAE on training dataset ---> 2518.9234411101693\n",
      "R2 on training dataset ---> 0.8635636651512035\n",
      "Adjusted R Squared Value ---> 0.8588042581215943\n"
     ]
    }
   ],
   "source": [
    "y_pred = rf_model.predict(x_test)\n",
    "\n",
    "MSE  = mean_squared_error(y_test,y_pred)\n",
    "\n",
    "RMSE = np.sqrt(MSE)\n",
    "\n",
    "MAE = mean_absolute_error(y_test,y_pred)\n",
    "\n",
    "r2_score = rf_model.score(x_test,y_test)\n",
    "\n",
    "adj_r2 = 1 - (((1 - r2_score ) * (x_test.shape[0] - 1)) / (x_test.shape[0] - x_test.shape[1] - 1))\n",
    "\n",
    "print(\"MSE on training dataset --->\", MSE)\n",
    "\n",
    "print(\"RMSE on training dataset --->\",RMSE)\n",
    "\n",
    "print(\"MAE on training dataset --->\", MAE)\n",
    "\n",
    "print(\"R2 on training dataset --->\", r2_score )\n",
    "\n",
    "print(\"Adjusted R Squared Value --->\",adj_r2)\n",
    "\n",
    "testing_accuracy.append(adj_r2)"
   ]
  },
  {
   "cell_type": "code",
   "execution_count": 95,
   "id": "4fefc9b2",
   "metadata": {},
   "outputs": [
    {
     "data": {
      "text/plain": [
       "RandomizedSearchCV(cv=5, estimator=RandomForestRegressor(random_state=41),\n",
       "                   n_jobs=-1,\n",
       "                   param_distributions={'criterion': ['squared_error',\n",
       "                                                      'absolute_error'],\n",
       "                                        'max_depth': array([3, 4, 5, 6, 7]),\n",
       "                                        'max_features': ['sqrt', 'log2'],\n",
       "                                        'min_samples_leaf': array([3, 4, 5, 6, 7, 8, 9]),\n",
       "                                        'min_samples_split': array([ 4,  5,  6,  7,  8,  9, 10, 11, 12, 13, 14, 15, 16, 17, 18, 19]),\n",
       "                                        'n_estimators': array([ 10...\n",
       "       114, 115, 116, 117, 118, 119, 120, 121, 122, 123, 124, 125, 126,\n",
       "       127, 128, 129, 130, 131, 132, 133, 134, 135, 136, 137, 138, 139,\n",
       "       140, 141, 142, 143, 144, 145, 146, 147, 148, 149, 150, 151, 152,\n",
       "       153, 154, 155, 156, 157, 158, 159, 160, 161, 162, 163, 164, 165,\n",
       "       166, 167, 168, 169, 170, 171, 172, 173, 174, 175, 176, 177, 178,\n",
       "       179, 180, 181, 182, 183, 184, 185, 186, 187, 188, 189, 190, 191,\n",
       "       192, 193, 194, 195, 196, 197, 198, 199]),\n",
       "                                        'oob_score': [True]})"
      ]
     },
     "execution_count": 95,
     "metadata": {},
     "output_type": "execute_result"
    }
   ],
   "source": [
    "model_dt = RandomForestRegressor(random_state=41)\n",
    "\n",
    "param_grid = {\"n_estimators\": np.arange(10,200),\n",
    "    \"criterion\": ['squared_error',\"absolute_error\"],\n",
    "    \"max_depth\" : np.arange(3,8),\n",
    "    \"min_samples_split\" :np.arange(4,20),\n",
    "    \"min_samples_leaf\":np.arange(3,10),\n",
    "    \"max_features\" : ['sqrt', 'log2'],\n",
    "    \"oob_score\":[True]}\n",
    "\n",
    "rfs_cv_model = RandomizedSearchCV(model_dt,param_grid,cv = 5 , n_jobs=-1)\n",
    "rfs_cv_model.fit(x_train,y_train)"
   ]
  },
  {
   "cell_type": "code",
   "execution_count": 96,
   "id": "4ae567aa",
   "metadata": {},
   "outputs": [],
   "source": [
    "rfs_cv_model.best_estimator_\n",
    "model_details.append(\"random_forest_with_hyperparameter_tuning\")"
   ]
  },
  {
   "cell_type": "code",
   "execution_count": 97,
   "id": "7c432a84",
   "metadata": {},
   "outputs": [
    {
     "name": "stdout",
     "output_type": "stream",
     "text": [
      "MSE on training dataset ---> 26453616.888657466\n",
      "RMSE on training dataset ---> 5143.307971399095\n",
      "MAE on training dataset ---> 2612.432130035785\n",
      "R2 on training dataset ---> 0.8218491187664555\n",
      "Adjusted R Squared Value ---> 0.8203365169446613\n"
     ]
    }
   ],
   "source": [
    "y_pred = rfs_cv_model.predict(x_train)\n",
    "\n",
    "MSE = mean_squared_error(y_train,y_pred)\n",
    "\n",
    "RMSE = np.sqrt(MSE)\n",
    "\n",
    "MAE = mean_absolute_error(y_train , y_pred)\n",
    "\n",
    "r2_score = rfs_cv_model.score(x_train, y_train)\n",
    "\n",
    "adj_r2 = 1 - (((1 - r2_score ) * (x_train.shape[0] - 1)) / (x_train.shape[0] - x_train.shape[1] - 1))\n",
    "\n",
    "print(\"MSE on training dataset --->\", MSE)\n",
    "\n",
    "print(\"RMSE on training dataset --->\",RMSE)\n",
    "\n",
    "print(\"MAE on training dataset --->\", MAE)\n",
    "\n",
    "print(\"R2 on training dataset --->\", r2_score )\n",
    "\n",
    "print(\"Adjusted R Squared Value --->\",adj_r2)\n",
    "\n",
    "training_accuracy.append(adj_r2)"
   ]
  },
  {
   "cell_type": "code",
   "execution_count": 98,
   "id": "c9fe08b0",
   "metadata": {},
   "outputs": [
    {
     "name": "stdout",
     "output_type": "stream",
     "text": [
      "MSE on training dataset ---> 21019281.86318799\n",
      "RMSE on training dataset ---> 4584.679036005464\n",
      "MAE on training dataset ---> 2579.426587134918\n",
      "R2 on training dataset ---> 0.8484254093722524\n",
      "Adjusted R Squared Value ---> 0.8431379236526798\n"
     ]
    }
   ],
   "source": [
    "y_pred = rfs_cv_model.predict(x_test)\n",
    "\n",
    "MSE  = mean_squared_error(y_test,y_pred)\n",
    "\n",
    "RMSE = np.sqrt(MSE)\n",
    "\n",
    "MAE = mean_absolute_error(y_test,y_pred)\n",
    "\n",
    "r2_score = rfs_cv_model.score(x_test,y_test)\n",
    "\n",
    "adj_r2 = 1 - (((1 - r2_score ) * (x_test.shape[0] - 1)) / (x_test.shape[0] - x_test.shape[1] - 1))\n",
    "\n",
    "print(\"MSE on training dataset --->\", MSE)\n",
    "\n",
    "print(\"RMSE on training dataset --->\",RMSE)\n",
    "\n",
    "print(\"MAE on training dataset --->\", MAE)\n",
    "\n",
    "print(\"R2 on training dataset --->\", r2_score )\n",
    "\n",
    "print(\"Adjusted R Squared Value --->\",adj_r2)\n",
    "\n",
    "testing_accuracy.append(adj_r2)"
   ]
  },
  {
   "cell_type": "markdown",
   "id": "8234bba6",
   "metadata": {},
   "source": [
    "## COMPARING ACCURACY"
   ]
  },
  {
   "cell_type": "code",
   "execution_count": 99,
   "id": "98f80150",
   "metadata": {},
   "outputs": [
    {
     "data": {
      "text/html": [
       "<div>\n",
       "<style scoped>\n",
       "    .dataframe tbody tr th:only-of-type {\n",
       "        vertical-align: middle;\n",
       "    }\n",
       "\n",
       "    .dataframe tbody tr th {\n",
       "        vertical-align: top;\n",
       "    }\n",
       "\n",
       "    .dataframe thead th {\n",
       "        text-align: right;\n",
       "    }\n",
       "</style>\n",
       "<table border=\"1\" class=\"dataframe\">\n",
       "  <thead>\n",
       "    <tr style=\"text-align: right;\">\n",
       "      <th></th>\n",
       "      <th>Models</th>\n",
       "      <th>Training Accuracy</th>\n",
       "      <th>Testing Accuracy</th>\n",
       "    </tr>\n",
       "  </thead>\n",
       "  <tbody>\n",
       "    <tr>\n",
       "      <th>0</th>\n",
       "      <td>linear_Regression</td>\n",
       "      <td>0.734492</td>\n",
       "      <td>0.794595</td>\n",
       "    </tr>\n",
       "    <tr>\n",
       "      <th>1</th>\n",
       "      <td>Ridge_Regression</td>\n",
       "      <td>0.734471</td>\n",
       "      <td>0.794131</td>\n",
       "    </tr>\n",
       "    <tr>\n",
       "      <th>2</th>\n",
       "      <td>Lasso_Regression</td>\n",
       "      <td>0.734491</td>\n",
       "      <td>0.794598</td>\n",
       "    </tr>\n",
       "    <tr>\n",
       "      <th>3</th>\n",
       "      <td>Ridge_with_gridsearch_cv</td>\n",
       "      <td>0.734472</td>\n",
       "      <td>0.794136</td>\n",
       "    </tr>\n",
       "    <tr>\n",
       "      <th>4</th>\n",
       "      <td>Ridge_with_gridsearch_cv</td>\n",
       "      <td>0.734490</td>\n",
       "      <td>0.794603</td>\n",
       "    </tr>\n",
       "    <tr>\n",
       "      <th>5</th>\n",
       "      <td>Ridge_with_randomizedsearch_cv</td>\n",
       "      <td>0.734472</td>\n",
       "      <td>0.794136</td>\n",
       "    </tr>\n",
       "    <tr>\n",
       "      <th>6</th>\n",
       "      <td>Lasso_with_randomizedsearch_cv</td>\n",
       "      <td>0.734490</td>\n",
       "      <td>0.794603</td>\n",
       "    </tr>\n",
       "    <tr>\n",
       "      <th>7</th>\n",
       "      <td>KNeighborsRegressor</td>\n",
       "      <td>0.457204</td>\n",
       "      <td>0.069577</td>\n",
       "    </tr>\n",
       "    <tr>\n",
       "      <th>8</th>\n",
       "      <td>Decisontree_model</td>\n",
       "      <td>0.998837</td>\n",
       "      <td>0.788876</td>\n",
       "    </tr>\n",
       "    <tr>\n",
       "      <th>9</th>\n",
       "      <td>decision_tree_with_hyperparameter_tuning</td>\n",
       "      <td>0.871365</td>\n",
       "      <td>0.874094</td>\n",
       "    </tr>\n",
       "    <tr>\n",
       "      <th>10</th>\n",
       "      <td>rf_model</td>\n",
       "      <td>0.976269</td>\n",
       "      <td>0.858804</td>\n",
       "    </tr>\n",
       "    <tr>\n",
       "      <th>11</th>\n",
       "      <td>random_forest_with_hyperparameter_tuning</td>\n",
       "      <td>0.820337</td>\n",
       "      <td>0.843138</td>\n",
       "    </tr>\n",
       "  </tbody>\n",
       "</table>\n",
       "</div>"
      ],
      "text/plain": [
       "                                      Models  Training Accuracy  \\\n",
       "0                          linear_Regression           0.734492   \n",
       "1                           Ridge_Regression           0.734471   \n",
       "2                           Lasso_Regression           0.734491   \n",
       "3                   Ridge_with_gridsearch_cv           0.734472   \n",
       "4                   Ridge_with_gridsearch_cv           0.734490   \n",
       "5             Ridge_with_randomizedsearch_cv           0.734472   \n",
       "6             Lasso_with_randomizedsearch_cv           0.734490   \n",
       "7                        KNeighborsRegressor           0.457204   \n",
       "8                          Decisontree_model           0.998837   \n",
       "9   decision_tree_with_hyperparameter_tuning           0.871365   \n",
       "10                                  rf_model           0.976269   \n",
       "11  random_forest_with_hyperparameter_tuning           0.820337   \n",
       "\n",
       "    Testing Accuracy  \n",
       "0           0.794595  \n",
       "1           0.794131  \n",
       "2           0.794598  \n",
       "3           0.794136  \n",
       "4           0.794603  \n",
       "5           0.794136  \n",
       "6           0.794603  \n",
       "7           0.069577  \n",
       "8           0.788876  \n",
       "9           0.874094  \n",
       "10          0.858804  \n",
       "11          0.843138  "
      ]
     },
     "execution_count": 99,
     "metadata": {},
     "output_type": "execute_result"
    }
   ],
   "source": [
    "comparison_df = pd.DataFrame({\"Models\": model_details,\"Training Accuracy\": training_accuracy,\"Testing Accuracy\": testing_accuracy})\n",
    "comparison_df"
   ]
  },
  {
   "cell_type": "markdown",
   "id": "b1662a6e",
   "metadata": {},
   "source": [
    "### single user input testing"
   ]
  },
  {
   "cell_type": "code",
   "execution_count": 100,
   "id": "482e0ccd",
   "metadata": {},
   "outputs": [
    {
     "data": {
      "text/html": [
       "<div>\n",
       "<style scoped>\n",
       "    .dataframe tbody tr th:only-of-type {\n",
       "        vertical-align: middle;\n",
       "    }\n",
       "\n",
       "    .dataframe tbody tr th {\n",
       "        vertical-align: top;\n",
       "    }\n",
       "\n",
       "    .dataframe thead th {\n",
       "        text-align: right;\n",
       "    }\n",
       "</style>\n",
       "<table border=\"1\" class=\"dataframe\">\n",
       "  <thead>\n",
       "    <tr style=\"text-align: right;\">\n",
       "      <th></th>\n",
       "      <th>316</th>\n",
       "    </tr>\n",
       "  </thead>\n",
       "  <tbody>\n",
       "    <tr>\n",
       "      <th>age</th>\n",
       "      <td>50.000</td>\n",
       "    </tr>\n",
       "    <tr>\n",
       "      <th>sex</th>\n",
       "      <td>0.000</td>\n",
       "    </tr>\n",
       "    <tr>\n",
       "      <th>bmi</th>\n",
       "      <td>32.205</td>\n",
       "    </tr>\n",
       "    <tr>\n",
       "      <th>children</th>\n",
       "      <td>0.000</td>\n",
       "    </tr>\n",
       "    <tr>\n",
       "      <th>smoker</th>\n",
       "      <td>0.000</td>\n",
       "    </tr>\n",
       "    <tr>\n",
       "      <th>region_northeast</th>\n",
       "      <td>0.000</td>\n",
       "    </tr>\n",
       "    <tr>\n",
       "      <th>region_northwest</th>\n",
       "      <td>1.000</td>\n",
       "    </tr>\n",
       "    <tr>\n",
       "      <th>region_southeast</th>\n",
       "      <td>0.000</td>\n",
       "    </tr>\n",
       "    <tr>\n",
       "      <th>region_southwest</th>\n",
       "      <td>0.000</td>\n",
       "    </tr>\n",
       "  </tbody>\n",
       "</table>\n",
       "</div>"
      ],
      "text/plain": [
       "                     316\n",
       "age               50.000\n",
       "sex                0.000\n",
       "bmi               32.205\n",
       "children           0.000\n",
       "smoker             0.000\n",
       "region_northeast   0.000\n",
       "region_northwest   1.000\n",
       "region_southeast   0.000\n",
       "region_southwest   0.000"
      ]
     },
     "execution_count": 100,
     "metadata": {},
     "output_type": "execute_result"
    }
   ],
   "source": [
    "x_train.head(1).T"
   ]
  },
  {
   "cell_type": "code",
   "execution_count": 101,
   "id": "f263cc82",
   "metadata": {},
   "outputs": [],
   "source": [
    "import pickle"
   ]
  },
  {
   "cell_type": "code",
   "execution_count": 102,
   "id": "10fa8c5b",
   "metadata": {},
   "outputs": [],
   "source": [
    "with open (\"dt_model.pkl\",\"wb\")as f:\n",
    "    pickle.dump(gscv_dt_model,f)"
   ]
  },
  {
   "cell_type": "code",
   "execution_count": 103,
   "id": "a42f8f0f",
   "metadata": {},
   "outputs": [],
   "source": [
    "import json"
   ]
  },
  {
   "cell_type": "code",
   "execution_count": 104,
   "id": "8d6e30ff",
   "metadata": {},
   "outputs": [
    {
     "data": {
      "text/plain": [
       "Index(['age', 'sex', 'bmi', 'children', 'smoker', 'region_northeast',\n",
       "       'region_northwest', 'region_southeast', 'region_southwest'],\n",
       "      dtype='object')"
      ]
     },
     "execution_count": 104,
     "metadata": {},
     "output_type": "execute_result"
    }
   ],
   "source": [
    "column_names = x_train.columns\n",
    "column_names"
   ]
  },
  {
   "cell_type": "code",
   "execution_count": 105,
   "id": "d5d4bf98",
   "metadata": {},
   "outputs": [
    {
     "data": {
      "text/plain": [
       "{'sex': {'male': 0, 'female': 1},\n",
       " 'smoker': {'no': 0, 'yes': 1},\n",
       " 'columns': ['age',\n",
       "  'sex',\n",
       "  'bmi',\n",
       "  'children',\n",
       "  'smoker',\n",
       "  'region_northeast',\n",
       "  'region_northwest',\n",
       "  'region_southeast',\n",
       "  'region_southwest']}"
      ]
     },
     "execution_count": 105,
     "metadata": {},
     "output_type": "execute_result"
    }
   ],
   "source": [
    "json_data = {\"sex\":sex_values,\n",
    "            \"smoker\":smoker_values,\n",
    "            \"columns\":list(column_names)}\n",
    "json_data"
   ]
  },
  {
   "cell_type": "code",
   "execution_count": 106,
   "id": "f39e2f42",
   "metadata": {},
   "outputs": [],
   "source": [
    "with open (\"json_data.json\",\"w\")as f:\n",
    "    json.dump(json_data,f)"
   ]
  },
  {
   "cell_type": "code",
   "execution_count": 107,
   "id": "c5590c1f",
   "metadata": {},
   "outputs": [
    {
     "data": {
      "text/plain": [
       "7"
      ]
     },
     "execution_count": 107,
     "metadata": {},
     "output_type": "execute_result"
    }
   ],
   "source": [
    "age = 19.0\n",
    "sex = \"female\"\n",
    "bmi = 24\n",
    "children = 0.0\n",
    "smoker = \"yes\"\n",
    "region = \"southeast\"\n",
    "\n",
    "region = \"region_\" + region\n",
    "region\n",
    "\n",
    "region_index = np.where(column_names == region)[0][0]\n",
    "region_index"
   ]
  },
  {
   "cell_type": "code",
   "execution_count": 108,
   "id": "f6315087",
   "metadata": {},
   "outputs": [
    {
     "data": {
      "text/plain": [
       "array([19.,  1., 24.,  0.,  1.,  0.,  0.,  1.,  0.])"
      ]
     },
     "execution_count": 108,
     "metadata": {},
     "output_type": "execute_result"
    }
   ],
   "source": [
    "array = np.zeros(len(column_names))\n",
    "\n",
    "array[0] = age\n",
    "array[1] = json_data['sex'][sex]\n",
    "array[2] = bmi\n",
    "array[3] = children\n",
    "array[4] = json_data['smoker'][smoker]\n",
    "array[region_index] = 1\n",
    "\n",
    "array"
   ]
  },
  {
   "cell_type": "code",
   "execution_count": 111,
   "id": "21567cba",
   "metadata": {},
   "outputs": [
    {
     "name": "stdout",
     "output_type": "stream",
     "text": [
      "Predicted Medical Insurance Charges is : 18108 /- Rs. Only\n"
     ]
    }
   ],
   "source": [
    "charges = round(rfs_cv_model.predict([array])[0])\n",
    "print(\"Predicted Medical Insurance Charges is :\", charges, \"/- Rs. Only\")"
   ]
  }
 ],
 "metadata": {
  "kernelspec": {
   "display_name": "Python 3 (ipykernel)",
   "language": "python",
   "name": "python3"
  },
  "language_info": {
   "codemirror_mode": {
    "name": "ipython",
    "version": 3
   },
   "file_extension": ".py",
   "mimetype": "text/x-python",
   "name": "python",
   "nbconvert_exporter": "python",
   "pygments_lexer": "ipython3",
   "version": "3.9.13"
  }
 },
 "nbformat": 4,
 "nbformat_minor": 5
}
